{
 "cells": [
  {
   "cell_type": "markdown",
   "metadata": {},
   "source": [
    "# Solving Equations Numerically with Python"
   ]
  },
  {
   "cell_type": "markdown",
   "metadata": {},
   "source": [
    "It is often not possible to solve equations explicitly, so we resort to numerical approximations for several purposes:\n",
    "\n",
    "1. Getting approximate solutions for use in estimates.\n",
    "\n",
    "2. Making conjectures about the solutions to the equations.\n",
    "\n",
    "3. Providing supporting evidence for conjectures about solutions to the equations."
   ]
  },
  {
   "cell_type": "code",
   "execution_count": null,
   "metadata": {
    "collapsed": true
   },
   "outputs": [],
   "source": [
    "# We'll be plotting a few things so let's import the matplotlib tools and ask it to show within the notebook\n",
    "import matplotlib.pyplot as plt\n",
    "import mpl_toolkits.mplot3d as mpl3\n",
    "%matplotlib inline"
   ]
  },
  {
   "cell_type": "markdown",
   "metadata": {},
   "source": [
    "## Numerical libraries\n",
    "\n",
    "<mark>Numpy</mark> and <mark>Scipy</mark> are two numerical libraries used for scientific computation. We've already used these a bit, but now we'll get to see more of their power.\n",
    "\n",
    "They have their own data types and many numerical approximation schemes are already built in as functions.\n",
    "\n",
    "Numpy can be imported as follows:"
   ]
  },
  {
   "cell_type": "code",
   "execution_count": null,
   "metadata": {
    "collapsed": true
   },
   "outputs": [],
   "source": [
    "import numpy as np"
   ]
  },
  {
   "cell_type": "markdown",
   "metadata": {},
   "source": [
    "It has its own array data type:"
   ]
  },
  {
   "cell_type": "code",
   "execution_count": null,
   "metadata": {
    "collapsed": false
   },
   "outputs": [],
   "source": [
    "V=np.array([1.,2.,3.13])\n",
    "print V\n",
    "print type(V)"
   ]
  },
  {
   "cell_type": "markdown",
   "metadata": {},
   "source": [
    "This data structure interfaces with Numpy's other numerical features well.\n",
    "\n",
    "It can be used to encode matrices and work with them numerically by writing them as lists of list:"
   ]
  },
  {
   "cell_type": "code",
   "execution_count": null,
   "metadata": {
    "collapsed": false
   },
   "outputs": [],
   "source": [
    "A=np.array([[1.,2.],[3.,4.]])\n",
    "print A"
   ]
  },
  {
   "cell_type": "markdown",
   "metadata": {},
   "source": [
    "This allows you to do many things like multiply a matrix times a vector:"
   ]
  },
  {
   "cell_type": "code",
   "execution_count": null,
   "metadata": {
    "collapsed": false
   },
   "outputs": [],
   "source": [
    "# create a vector\n",
    "x = np.array([-1,2])\n",
    "\n",
    "# matrix applied to a vector Ax\n",
    "print A.dot(x)"
   ]
  },
  {
   "cell_type": "code",
   "execution_count": null,
   "metadata": {
    "collapsed": false
   },
   "outputs": [],
   "source": [
    "# Define a second matrix\n",
    "B=np.array([[-3,-3],[1,2]])\n",
    "\n",
    "# Multiply matrices\n",
    "print A\n",
    "print ''\n",
    "print B\n",
    "print ''\n",
    "print A.dot(B)"
   ]
  },
  {
   "cell_type": "markdown",
   "metadata": {},
   "source": [
    "Some useful numpy features are <mark>arange</mark> and <mark>linspace</mark>.\n",
    "\n",
    "The first is like <mark>range</mark> but can take floats and vary its step size.  The second creates an evenly distributed list of numbers, good for plotting as we've seen."
   ]
  },
  {
   "cell_type": "code",
   "execution_count": null,
   "metadata": {
    "collapsed": false
   },
   "outputs": [],
   "source": [
    "Array1=np.arange(10)\n",
    "\n",
    "print Array1\n",
    "print type(Array1[0])"
   ]
  },
  {
   "cell_type": "code",
   "execution_count": null,
   "metadata": {
    "collapsed": false
   },
   "outputs": [],
   "source": [
    "Array2=np.arange(10.)\n",
    "\n",
    "print Array2\n",
    "print type(Array2[0])"
   ]
  },
  {
   "cell_type": "markdown",
   "metadata": {},
   "source": [
    "You can specify where to start using the first argument and where to stop with a second argument:"
   ]
  },
  {
   "cell_type": "code",
   "execution_count": null,
   "metadata": {
    "collapsed": false
   },
   "outputs": [],
   "source": [
    "# start at 0.1 \n",
    "print np.arange(.1,10)"
   ]
  },
  {
   "cell_type": "markdown",
   "metadata": {},
   "source": [
    "Note it will treat the stopping point as an upper bound."
   ]
  },
  {
   "cell_type": "markdown",
   "metadata": {},
   "source": [
    "And even tell it to skip by a certain amount using a third argument:"
   ]
  },
  {
   "cell_type": "code",
   "execution_count": null,
   "metadata": {
    "collapsed": false
   },
   "outputs": [],
   "source": [
    "print np.arange(.1,10,3)"
   ]
  },
  {
   "cell_type": "markdown",
   "metadata": {},
   "source": [
    "To create an evenly spaced out array use <mark>linspace</mark>.\n",
    "\n",
    "The first two arguments give the interval you want (including end points):"
   ]
  },
  {
   "cell_type": "code",
   "execution_count": null,
   "metadata": {
    "collapsed": false
   },
   "outputs": [],
   "source": [
    "print np.linspace(0,1)"
   ]
  },
  {
   "cell_type": "markdown",
   "metadata": {},
   "source": [
    "You can tell it in how many pieces to break up the interval into by using a third argument:"
   ]
  },
  {
   "cell_type": "code",
   "execution_count": null,
   "metadata": {
    "collapsed": false
   },
   "outputs": [],
   "source": [
    "print np.linspace(0,1,10)"
   ]
  },
  {
   "cell_type": "markdown",
   "metadata": {},
   "source": [
    "Numpy has many other features. Look [here](https://docs.scipy.org/doc/numpy-1.13.0/user/whatisnumpy.html) to learn more about Numpy."
   ]
  },
  {
   "cell_type": "markdown",
   "metadata": {},
   "source": [
    "## Numerical schemes to solve equations\n",
    "\n",
    "As mentioned at thebeginning, it is often of interest to solve equations numerically; that is, to approximate their solutions using computational algorithms. There are many methods for solving equations numerically.\n",
    "\n",
    "<mark>Scipy</mark> is the other numerical package we're going to consider here, and it has many functions built in to implement different numerical methods.\n",
    "\n",
    "However, as a learning tool, it's a good idea to try to implement some numerical schemes for solving equations yourself. Although in practice you will often used built in methods, sometimes you will need to modify existing ones or know which method to pick. It is also good to do this in order to get an idea as to what is going on \"under the hood\". \n",
    "\n",
    "Let's look at two methods for approximating the roots of functions."
   ]
  },
  {
   "cell_type": "markdown",
   "metadata": {},
   "source": [
    "### Bisection method\n",
    "\n",
    "Let $f:\\mathbb{R}\\to\\mathbb{R}$ be a continuous function for which you want to know a root $r$. That is, we want to approximate a number $r$ such that:\n",
    "$$\n",
    "f(r)=0\n",
    "$$\n",
    "\n",
    "Note one can also think of this as a solution of the equation given by $f(x)=0$.\n",
    "\n",
    "We want to approximate this root up to a certain error, call it $E>0$.\n",
    "\n",
    "The **bisection method** consists of iteratively halving an interval until you get close enough to your solution.\n",
    "\n",
    "The method begins by taking two numbers $a_1<b_1$ such that $f(a_1)f(b_1)<0$. The latter condition guarantees $f$ takes opposite values at $a_1$ and $b_1$. The Intermediate Value Theorem guarantees there exists a root between these numbers.\n",
    "\n",
    "Then one does the following:\n",
    "\n",
    "1. Compute the midpoint $m_n:=\\frac{a_n+b_n}{2}$.\n",
    "\n",
    "2. Check if $f(m_n)=0$. If so, you're done, you found the root to be $m_n$. Otherwise, continue.\n",
    "\n",
    "3. Compute the $n^{th}$ step error $h_n:=\\frac{b_n-a_n}{2}$.\n",
    "\n",
    "4. Check if you're within the error tolerance; that is, check $h_n<E$. If so, you're done, pick $m_n$ as the approximation to the root. Otherwise, continue.\n",
    "\n",
    "5. Check if $f(a_n)f(m_n)<0$. If so, set $a_{n+1}:=a_n$ and $b_{n+1}:=m_n$. Otherwise, see the next step.\n",
    "\n",
    "6. Check if $f(a_n)f(m_n)>0$. If so, set $a_{n+1}:=m_n$ and $b_{n+1}:=b_n$. Continue.\n",
    "\n",
    "7. Repeat until you stop because of 2 or 4."
   ]
  },
  {
   "cell_type": "markdown",
   "metadata": {},
   "source": [
    "#### Exercise\n",
    "\n",
    "Write a function that implements the bisection method for a given function (Use numpy arrays.)"
   ]
  },
  {
   "cell_type": "markdown",
   "metadata": {},
   "source": [
    "#### Exercise\n",
    "\n",
    "Use the Bisection Method to estimate a root of the following functions, begin by plotting them to pick appropriate starting intervals:\n",
    "\n",
    "1. $f(x)=x^3+2x-6$\n",
    "\n",
    "2. $g(x)=2\\cos(x)-\\sin(x)$\n",
    "\n",
    "You can define the functions as follows:\n",
    "\n",
    "```\n",
    "def f(x):\n",
    "    return x**3 + 2*x - 6\n",
    "```\n",
    "\n",
    "or even using lambda notation:\n",
    "\n",
    "```\n",
    "f = lambda x : x**3 + 2*x - 6 \n",
    "```"
   ]
  },
  {
   "cell_type": "markdown",
   "metadata": {},
   "source": [
    "#### Exercise\n",
    "\n",
    "The Bisection Method is simple and intuitive, but it can be very slow. \n",
    "\n",
    "Let $f(x)=x^3-3x-5$. \n",
    "\n",
    "Compute the number of steps it takes to get to the real root of $f$ within the error $E=10^{-n}$ for $n=1,2,3,4,5,6,7,8$. \n",
    "\n",
    "Make a plot of number of steps as a function of the order of magnitude $n$."
   ]
  },
  {
   "cell_type": "markdown",
   "metadata": {},
   "source": [
    "### Newton's Method\n",
    "\n",
    "Let $f:\\mathbb{R}\\to\\mathbb{R}$ be a differentiable function. We are interested in finding a root $r$ of $f$ up to an error $E$.\n",
    "\n",
    "The method begins with an initial guess or appproximation $x_1$.\n",
    "\n",
    "Then one does the following:\n",
    "\n",
    "1. Compute $x_{n+1}:=x_n-\\frac{f(x_n)}{f'(x_n)}$.\n",
    "2. Compute the error $h_{n+1}:=|x_{n+1}-x_n|$. If $h_{n+1}<E$, stop and pick $x_{n+1}$ as your guess for the root. Otherwise repeat."
   ]
  },
  {
   "cell_type": "markdown",
   "metadata": {},
   "source": [
    "#### Exercise\n",
    "\n",
    "Write a function that implements Newton's method directly for a given function."
   ]
  },
  {
   "cell_type": "markdown",
   "metadata": {},
   "source": [
    "#### Exercise\n",
    "\n",
    "Use the Newton's Method to estimate a root of the following functions, begin by plotting them to pick an appropriate starting guess:\n",
    "\n",
    "1. the largest real root of $f(x)=x^3+6x^2+9x+1$\n",
    "\n",
    "2. the largest real root of $f(x)=x-2+2\\cos(x)$"
   ]
  },
  {
   "cell_type": "markdown",
   "metadata": {},
   "source": [
    "#### Exercise\n",
    "\n",
    "Let $f(x)=x^3-3x-5$. \n",
    "\n",
    "Compute the number of steps it takes to get to the real root of $f$ to within the error $E=10^{-n}$ for $n=1,2,3,4,5,6,7,8$. \n",
    "\n",
    "Make a plot of number of steps as a function of the order of magnitude $n$. \n",
    "\n",
    "Plot this together with the same plot done for the Bisection Method to compare."
   ]
  },
  {
   "cell_type": "markdown",
   "metadata": {},
   "source": [
    "## Scipy Functions for Solving Equations\n",
    "\n",
    "The Scipy library has many numerical schemes for solving equations already implemented.\n",
    "\n",
    "By looking at the documentation to see the appropriate parameters, this facilitates and optimizes using these methods."
   ]
  },
  {
   "cell_type": "markdown",
   "metadata": {},
   "source": [
    "We need to import Scipy's <mark>optimize</mark> as follows: "
   ]
  },
  {
   "cell_type": "code",
   "execution_count": null,
   "metadata": {
    "collapsed": true
   },
   "outputs": [],
   "source": [
    "import scipy.optimize as spo"
   ]
  },
  {
   "cell_type": "markdown",
   "metadata": {},
   "source": [
    "### Scipy's bisection method"
   ]
  },
  {
   "cell_type": "markdown",
   "metadata": {},
   "source": [
    "With this, implementing the Bisection Method can be done as follows:"
   ]
  },
  {
   "cell_type": "code",
   "execution_count": null,
   "metadata": {
    "collapsed": false
   },
   "outputs": [],
   "source": [
    "# define the function of interest\n",
    "f = lambda x : x**3-3*x-5\n",
    "\n",
    "# call the bisect function with starting interval [2,3]\n",
    "spo.bisect(f,2,3)"
   ]
  },
  {
   "cell_type": "markdown",
   "metadata": {},
   "source": [
    "You can set the tolerance or \"error\" you desire with <mark>xtol</mark> and if you would like to set a limit to the number of iterations you can do that with <mark>maxiter</mark>:"
   ]
  },
  {
   "cell_type": "code",
   "execution_count": null,
   "metadata": {
    "collapsed": false
   },
   "outputs": [],
   "source": [
    "spo.bisect(f,2,3,xtol=10**(-5),maxiter=17)"
   ]
  },
  {
   "cell_type": "markdown",
   "metadata": {},
   "source": [
    "You can see the difference in the answers, mostly due to the <mark>maxiter</mark> I set."
   ]
  },
  {
   "cell_type": "markdown",
   "metadata": {},
   "source": [
    "For more info on the Scipy implementation of the bisection method, see [here](https://docs.scipy.org/doc/scipy-0.14.0/reference/generated/scipy.optimize.bisect.html)."
   ]
  },
  {
   "cell_type": "markdown",
   "metadata": {},
   "source": [
    "### Scipy's Newton's method\n",
    "\n",
    "Scipy has also implemented Newton's method.\n",
    "\n",
    "Say you're trying to find a root of $f$. You can provide the method with just $f$, with $f$ and $f^{(1)}$, or with $f$, $f^{(1)}$, and $f^{(2)}$. It will use different methods for each case:\n",
    "\n",
    "1. If only the function is provided it will use the <a href=https://en.wikipedia.org/wiki/Secant_method> secant method</a>.\n",
    "\n",
    "2. If the function and the first derivative are provided, it will use <a href=https://en.wikipedia.org/wiki/Newton%27s_method>Newton's method</a>.\n",
    "\n",
    "3. If the function and the first two derivatives are provided, it will use <a href=https://en.wikipedia.org/wiki/Halley%27s_method>Halley's method</a>"
   ]
  },
  {
   "cell_type": "code",
   "execution_count": null,
   "metadata": {
    "collapsed": false
   },
   "outputs": [],
   "source": [
    "# define the function, we already did this, but let's do it again for illustration\n",
    "f = lambda x : x**3-3*x-5\n",
    "\n",
    "# Secant Method\n",
    "spo.newton(f,2)"
   ]
  },
  {
   "cell_type": "code",
   "execution_count": null,
   "metadata": {
    "collapsed": false
   },
   "outputs": [],
   "source": [
    "# define the first derivative\n",
    "df = lambda x : 3*x**2-3\n",
    "\n",
    "# Newton's method\n",
    "spo.newton(f,2,fprime=df)"
   ]
  },
  {
   "cell_type": "code",
   "execution_count": null,
   "metadata": {
    "collapsed": false
   },
   "outputs": [],
   "source": [
    "# define the second derivative\n",
    "ddf = lambda x : 6*x\n",
    "\n",
    "# Halley's method\n",
    "spo.newton(f,2,fprime=df,fprime2=ddf)"
   ]
  },
  {
   "cell_type": "markdown",
   "metadata": {},
   "source": [
    "To require a certain error tolerance use <mark>tol</mark>:"
   ]
  },
  {
   "cell_type": "code",
   "execution_count": null,
   "metadata": {
    "collapsed": false
   },
   "outputs": [],
   "source": [
    "spo.newton(f,2,tol=10**(-2))"
   ]
  },
  {
   "cell_type": "markdown",
   "metadata": {},
   "source": [
    "For more details about Scipy's <mark>newton</mark> see <a href=https://docs.scipy.org/doc/scipy/reference/generated/scipy.optimize.newton.html> here </a>."
   ]
  },
  {
   "cell_type": "markdown",
   "metadata": {},
   "source": [
    "### Scipy's brentq method\n",
    "\n",
    "Another root-finding method implemented in Scipy is the <mark>brentq</mark> method, which is often better than both Newton's and the bisection method.\n",
    "\n",
    "For this method, you must give it an interval to search in."
   ]
  },
  {
   "cell_type": "code",
   "execution_count": null,
   "metadata": {
    "collapsed": false
   },
   "outputs": [],
   "source": [
    "# define the function\n",
    "f = lambda x: x**3-3*x-5\n",
    "\n",
    "# Brentq method\n",
    "spo.brentq(f,2,3)"
   ]
  },
  {
   "cell_type": "markdown",
   "metadata": {},
   "source": [
    "For more details about this method see <a href=https://docs.scipy.org/doc/scipy-0.14.0/reference/generated/scipy.optimize.brentq.html>here</a>."
   ]
  },
  {
   "cell_type": "markdown",
   "metadata": {},
   "source": [
    "#### Exercise\n",
    "\n",
    "Recall from Day 1 that a function $f:\\mathbb{R}\\to\\mathbb{R}$ defines a discrete dynamical system by iteration from an initial condition $x_0$:\n",
    "$$\n",
    "x_0, f(x_0), f^2(x_0)=f(f(x_0)), f^3(x_0)=f(f(f(x_0))), ....\n",
    "$$\n",
    "\n",
    "Furthermore, if $k$ is a positive integer, a **k-periodic** point is a point $p$ such that $f^k(p)=p$ but $f^j(p)\\not=p$ for all positive integers $j$ less than $k$.\n",
    "\n",
    "Consider the function $f(x)=2x^2-5x$. Use any numerical solver you think is best to find the period $2$ points of $f$. \n",
    "\n",
    "Start by graphing the function $F(x):=f(f(x))-x=f^2(x)-x$.\n",
    "\n",
    "Make sure to check that $f(x)\\not=x$."
   ]
  },
  {
   "cell_type": "markdown",
   "metadata": {},
   "source": [
    "#### Exercise\n",
    "\n",
    "It is often of interest to determine when a function is bigger than another. For many purposes this can be achieved numerically.\n",
    "\n",
    "Consider the functions:\n",
    "$$\n",
    "f(x)=x\\sin(x^2)\n",
    "\\qquad\\qquad\n",
    "g(x)=\\sin(x)\n",
    "$$\n",
    "\n",
    "For values of $x$ in $[0,2]$, determine numerically when $f(x)>g(x)$ and when $f(x)<g(x)$.\n",
    "\n",
    "You want to rephrase this as a problem of finding the roots of $H(x):=f(x)-g(x)$ and testing points in the resulting intervals.\n",
    "\n",
    "Again it is a good idea to start by plotting the function $H$. \n"
   ]
  },
  {
   "cell_type": "markdown",
   "metadata": {},
   "source": [
    "### Solving systems of nonlinear equations with Scipy's fsolve\n",
    "\n",
    "The function <mark>fsolve</mark> in Scipy can be used to solve systems of $n$ nonlinear equations in $n$-variables like this system of $2$ equations in $2$ unknowns:\n",
    "$$\n",
    "\\begin{cases}\n",
    "4x^2+y^2=1 \\\\\n",
    "x^2+9y^2=1\n",
    "\\end{cases}\n",
    "$$\n",
    "\n",
    "Note that finding solutions of the above system is equivalent to finding the zeros of the function $F:\\mathbb{R}^2\\to\\mathbb{R}^2$ defined by:\n",
    "$$\n",
    "F(x,y)=\\Big(4x^2+y^2-1\\,,\\,x^2+9y^2-1\\Big)\n",
    "$$\n",
    "\n",
    "The function <mark>fsolve</mark> takes as argument the function $F$, but you also need to give it an initial guess. It will try to approximate a solution near this guess.\n",
    "\n",
    "In this case, the solutions of the given system of equations correspond to the intersections of the two ellipses, so to find the initial guess it's a good idea to start with a graph of the ellipses."
   ]
  },
  {
   "cell_type": "code",
   "execution_count": null,
   "metadata": {
    "collapsed": false
   },
   "outputs": [],
   "source": [
    "# define the domain\n",
    "x = np.linspace(-1.1, 1.1)\n",
    "y = np.linspace(-1.1, 1.1)[:, None]\n",
    "\n",
    "# plot the ellipses\n",
    "plt.contour(x, y.ravel(),4*x**2+y**2-1,[0],colors=\"blue\")\n",
    "plt.contour(x, y.ravel(),x**2+9*y**2-1,[0],colors=\"red\")\n",
    "plt.show()"
   ]
  },
  {
   "cell_type": "markdown",
   "metadata": {},
   "source": [
    "There are four intersections and there's one that seems to be around $(0.5,0.5)$, but not quite:"
   ]
  },
  {
   "cell_type": "code",
   "execution_count": null,
   "metadata": {
    "collapsed": false
   },
   "outputs": [],
   "source": [
    "x = np.linspace(-1.1, 1.1)\n",
    "y = np.linspace(-1.1, 1.1)[:, None]\n",
    "plt.contour(x, y.ravel(),4*x**2+y**2-1,[0],colors=\"blue\")\n",
    "plt.contour(x, y.ravel(),x**2+9*y**2-1,[0],colors=\"red\")\n",
    "\n",
    "# let's mark our initial guess\n",
    "plt.scatter([.5,],[.5,],35,color=\"green\")\n",
    "plt.annotate(r'initial guess',\n",
    "             xy=(.5,.5) , xycoords='data',\n",
    "             xytext=(20,20), textcoords='offset points', fontsize=12,\n",
    "             arrowprops=dict(arrowstyle=\"->\", connectionstyle=\"arc3,rad=.2\"))\n",
    "\n",
    "plt.show()"
   ]
  },
  {
   "cell_type": "markdown",
   "metadata": {},
   "source": [
    "Let's apply the method:"
   ]
  },
  {
   "cell_type": "code",
   "execution_count": null,
   "metadata": {
    "collapsed": false
   },
   "outputs": [],
   "source": [
    "# Define the equations as a function\n",
    "def equation_fun(p):\n",
    "    x, y = p\n",
    "    return (4*x**2+y**2-1, x**2+9*y**2-1)\n",
    "\n",
    "# Solve with fsolve\n",
    "a, b =  spo.fsolve(equation_fun, (.5, .5))"
   ]
  },
  {
   "cell_type": "markdown",
   "metadata": {},
   "source": [
    "Let's verify that when we plug the solution to the function corresponding to the equations we get something close to $0$:"
   ]
  },
  {
   "cell_type": "code",
   "execution_count": null,
   "metadata": {
    "collapsed": false
   },
   "outputs": [],
   "source": [
    "# this should give something close to (0,0)\n",
    "print equation_fun((a, b))"
   ]
  },
  {
   "cell_type": "markdown",
   "metadata": {},
   "source": [
    "Now let's inspect it visually:"
   ]
  },
  {
   "cell_type": "code",
   "execution_count": null,
   "metadata": {
    "collapsed": false
   },
   "outputs": [],
   "source": [
    "x = np.linspace(-1.1, 1.1)\n",
    "y = np.linspace(-1.1, 1.1)[:, None]\n",
    "\n",
    "plt.contour(x, y.ravel(),4*x**2+y**2-1,[0],colors=\"blue\")\n",
    "plt.contour(x, y.ravel(),x**2+9*y**2-1,[0],colors=\"red\")\n",
    "\n",
    "# the point of intersection with a big arrow pointing to it\n",
    "plt.scatter([a,],[b,],35,color=\"green\")\n",
    "plt.annotate(r'intersection',\n",
    "             xy=(a,b) , xycoords='data',\n",
    "             xytext=(20,20), textcoords='offset points', fontsize=12,\n",
    "             arrowprops=dict(arrowstyle=\"->\", connectionstyle=\"arc3,rad=.2\"))\n",
    "\n",
    "plt.show()"
   ]
  },
  {
   "cell_type": "markdown",
   "metadata": {},
   "source": [
    "Look [here](https://docs.scipy.org/doc/scipy/reference/generated/scipy.optimize.fsolve.html) if you want to learn more about <mark>fsolve</mark>.\n",
    "\n",
    "In particular, when you go to apply this approach, you should look at the options to set an error tolerance."
   ]
  },
  {
   "cell_type": "markdown",
   "metadata": {},
   "source": [
    "#### Exercise\n",
    "\n",
    "Use the above method to find the points of intersection of the curves defined by the equations:\n",
    "$$\n",
    "\\begin{cases}\n",
    "y=x^3\\\\\n",
    "y^2=x^3-2x+1\n",
    "\\end{cases}\n",
    "$$"
   ]
  },
  {
   "cell_type": "markdown",
   "metadata": {},
   "source": [
    "#### Exercise\n",
    "\n",
    "Consider the parametrized curves:\n",
    "$$\n",
    "\\gamma(s):=(s^2-1,s^3-s)\n",
    "\\qquad\\qquad\n",
    "\\eta(t):=\\Big((4\\cos(t),3\\sin(t)\\Big)\n",
    "$$\n",
    "\n",
    "Find their points of intersection.\n",
    "\n",
    "The key is to note that you want to find the parameters $(s,t)$ such that $\\gamma(s)=\\eta(t)$. This becomes the system of equations:\n",
    "$$\n",
    "\\begin{cases}\n",
    "s^2-1=4\\cos(t)\\\\\n",
    "s^3-s=3\\sin(t)\n",
    "\\end{cases}\n",
    "$$\n",
    "which you can turn into the problem of finding the zeros of the function:\n",
    "$$\n",
    "F(s,t):=\\Big(s^2-1-4\\cos(t)\\,,\\,s^3-s-3\\sin(t)\\Big)\n",
    "$$\n",
    "\n",
    "Then use <mark>fsolve</mark> to find the parameters we want. \n",
    "\n",
    "Again, you might want to plot the curves to get an idea for an initial guess. Watch out for one detail though: the coordinates you are seeing do not correspond to the initial values of $s$ and $t$. You have to figure out a way to find out about what $s$ and $t$ value correspond to the points you're observing on the plots."
   ]
  },
  {
   "cell_type": "markdown",
   "metadata": {},
   "source": [
    "#### Exercise\n",
    "\n",
    "Consider the surface described as the graph of the function $f(x,y)=\\exp(-x^2-y^2+xy/4)$ and the curve parametrized by:\n",
    "$$\n",
    "\\gamma:[0,\\infty)\\to\\mathbb{R}^3\n",
    "\\qquad\\qquad\n",
    "\\gamma(t)=(t^2\\cos(t),t^2\\sin(t),t^2)\n",
    "$$\n",
    "\n",
    "Compute numerically when the curve intersects the surface.\n",
    "\n",
    "Observe that what we're looking for is a value $t\\ge 0$ such that the coordinates of $\\gamma(t)$ are on the graph, that means:\n",
    "$$\n",
    "t^2=\\exp\\Big(-t^2+t^4\\cos(t)\\sin(t)/4\\Big)\n",
    "$$\n",
    "\n",
    "Use whichever method you think is best to approximate such a $t$."
   ]
  },
  {
   "cell_type": "markdown",
   "metadata": {},
   "source": [
    "### Solving Linear Systems of Equations\n",
    "\n",
    "Consider the linear system of equations:\n",
    "$$\n",
    "\\begin{align}\n",
    "3x-7y-2z+2u &= -9 \\\\\n",
    "-3x+5y+z &= 5 \\\\\n",
    "6x-4y -5u &= 7 \\\\\n",
    "-9x + 5y -5z + 12u & = 11\n",
    "\\end{align}\n",
    "$$\n",
    "\n",
    "Since this system is linear it is equivalent to the matrix equation $A\\mathbf{x}=\\mathbf{b}$ where:\n",
    "\n",
    "$$\n",
    "A=\n",
    "\\left(\n",
    "\\begin{array}{cccc}\n",
    "3 & -7 & -2 & 2 \\\\\n",
    "-3 & 5 & 1 & 0 \\\\\n",
    "6 & -4 & 0 & -5 \\\\\n",
    "-9 & 5 & -5 & 12 \n",
    "\\end{array}\n",
    "\\right)\n",
    "\\qquad\\qquad\\qquad\\qquad\n",
    "\\mathbf{b}=\n",
    "\\left(\n",
    "\\begin{array}{c}\n",
    "-9 \\\\ 5 \\\\ 7 \\\\ 11\n",
    "\\end{array}\n",
    "\\right)\n",
    "$$\n",
    "\n",
    "When it comes to linear systems, there is a lot of mathematics behind solving them effectively, so we can solve this rather easily with <mark>Scipy</mark>'s tools.\n",
    "\n",
    "One rule-of-thumb is to **not** compute the inverse of $A$ unless you need it (too many divisions!)."
   ]
  },
  {
   "cell_type": "markdown",
   "metadata": {},
   "source": [
    "We'll need Scipy's linear algebra module:"
   ]
  },
  {
   "cell_type": "code",
   "execution_count": null,
   "metadata": {
    "collapsed": true
   },
   "outputs": [],
   "source": [
    "import scipy.linalg as la"
   ]
  },
  {
   "cell_type": "markdown",
   "metadata": {},
   "source": [
    "Now we enter the system and solve it:"
   ]
  },
  {
   "cell_type": "code",
   "execution_count": null,
   "metadata": {
    "collapsed": false
   },
   "outputs": [],
   "source": [
    "# Enter the system\n",
    "A=np.array([[3,-7,-2,2],[-3,5,1,0],[6,-4,0,-5],[-9,5,-5,12]], dtype=float)\n",
    "b=np.array([-9,5,7,11], dtype=float)\n",
    "\n",
    "# Solve the system\n",
    "x=la.solve(A,b)"
   ]
  },
  {
   "cell_type": "markdown",
   "metadata": {},
   "source": [
    "We verify the solution is reasonable as follows:"
   ]
  },
  {
   "cell_type": "code",
   "execution_count": null,
   "metadata": {
    "collapsed": false
   },
   "outputs": [],
   "source": [
    "# Check it works by checking the magnitude of the vector Ax-b, it should be close to 0\n",
    "print la.norm(A.dot(x)-b)"
   ]
  },
  {
   "cell_type": "markdown",
   "metadata": {},
   "source": [
    "#### Exercise\n",
    "\n",
    "It can get exhausting to enter large matrices, so you often want to automate it in some way.\n",
    "\n",
    "Use some loop to create a $30\\times 30$ matrix that has zeros everywhere except it has $3$'s in those positions where one of the indices is congruent to $0$ modulo 3.\n",
    "\n",
    "Use some loop to create a $30\\times 30$ matrix that has zeros everywhere except:\n",
    "\n",
    "1. If one of the indices for the entry is congruent to $0$ mod $3$ but not to $0$ mod $5$ it has a $3$ there.\n",
    "1. If one of the indices for the entry is congruent to $0$ mod $5$ but not to $0$ mod $3$ it has a $5$ there.\n",
    "1. If one of the indices is congruent to $0$ mod $3$ and mod $5$ then it has a $15$ there."
   ]
  },
  {
   "cell_type": "markdown",
   "metadata": {},
   "source": [
    "#### Exercise\n",
    "\n",
    "Numpy has several functions to generate certain kinds of matrices:\n",
    "\n",
    "1. <mark>np.zeros((3,5))</mark> creates a $3\\times5$ numpy array matrix of zeros\n",
    "1. <mark>np.ones((2,2))</mark> creates a $2\\times2$ numpy array matrix of ones\n",
    "1. <mark>np.eye(3)</mark> will create a $3\\times3$ identity matrix (ones along the diagonal, zeros elsewhere)\n",
    "1. <mark>np.eye(3,k=-1)</mark> will shift the diagonal of ones down\n",
    "1. <mark>np.eye(6,4)</mark> will make a $4\\times4$ identity block in a $6\\times 4$ matrix and pad it with rows of zeros at the end\n",
    "1. <mark>np.eye(4,6)</mark> will make a $4\\times4$ identity block in a $4\\times 6$ matrix and pad it with a column of zeros at the end\n",
    "1. <mark>np.rand(3,2)</mark> will create a $3\\times 2$ matrix with uniformly distributed random entries between $0$ and $1$.\n",
    "\n",
    "Do the following:\n",
    "\n",
    "1. Experiment with <mark>np.eye</mark> until you are comfortable with its function.\n",
    "1. Use all of the above to make a $10\\times 10$ matrix with the upper left $5\\times 5$ block has zeros everywhere except $3$'s on the diagonal, the upper right and the lower left $5\\times 5$ blocks are completely zero, the lower right $5\\times 5$ block has $2$'s on the diagonal and $1$'s elsewhere.\n",
    "1. Make an upper triangular $5\\times 5$ matrix with random entries drawn from the interval $[-1,1]$. *Hint*: To adjust the entries, apply a function to the nonzero entries that takes the interval $[0,1]$ to the interval $[-1,1]$."
   ]
  },
  {
   "cell_type": "markdown",
   "metadata": {},
   "source": [
    "#### Exercise\n",
    "\n",
    "Numerically solve the following linear system: \n",
    "$$\n",
    "A=\\left(\\begin{array}{ccc}\n",
    "3 & -7 & -2 \\\\\n",
    "-3 & 5 & 1 \\\\\n",
    "6 & -4 & 0\n",
    "\\end{array}\\right)\n",
    "\\qquad\\qquad\\qquad\n",
    "b=\\left(\\begin{array}{c}\n",
    "-7 \\\\ 5 \\\\ 2\n",
    "\\end{array}\\right)\n",
    "$$"
   ]
  },
  {
   "cell_type": "markdown",
   "metadata": {},
   "source": [
    "### Computing eigenvalues and eigenvectors numerically\n",
    "\n",
    "Matrices can be thought of as functions. For example, a $2\\times 2$ matrix can be thought of as a function that takes a vector $x$ in $\\mathbb{R}^2$ to another vector $Ax$ in $\\mathbb{R}^2$. We call **linear transformations** the functions coming from matrices in this way.\n",
    "\n",
    "A useful and important way to understand the action of a linear transformation is to find the eigenvalues and corresponding eigenvectors of the matrix.\n",
    "\n",
    "An **eigenvalue** $\\lambda$ of a matrix $A$ is a scalar such that there exists a *nonzero* vector $\\mathbf{v}\\in \\mathbb{R}^n$ such that:\n",
    "\n",
    "$$\n",
    "A\\mathbf{v}=\\lambda \\mathbf{v}\n",
    "$$\n",
    "\n",
    "The corresponding vector $\\mathbf{v}$ is called an **eigenvector** of $A$ corresponding to the eigenvalue $\\lambda$.\n",
    "\n",
    "Scipy can find eigenvalues and eigenvectors for you!"
   ]
  },
  {
   "cell_type": "code",
   "execution_count": null,
   "metadata": {
    "collapsed": false
   },
   "outputs": [],
   "source": [
    "# Encode a matrix\n",
    "A= np.array([[1,2],[3,4]])\n",
    "\n",
    "# Ask for the eigenvalues and eigenvectors with eig()\n",
    "eigvalues, eigvectors = la.eig(A)\n",
    "\n",
    "# Print them to see them\n",
    "print A\n",
    "print ''\n",
    "print eigvalues\n",
    "print ''\n",
    "print eigvectors"
   ]
  },
  {
   "cell_type": "markdown",
   "metadata": {},
   "source": [
    "Eigenvalues are generally complex numbers hence the weird notation.\n",
    "\n",
    "If you notice they're real numbers (they have a $0$ imaginary part) and want to change their type you can do it as follows:"
   ]
  },
  {
   "cell_type": "code",
   "execution_count": null,
   "metadata": {
    "collapsed": false
   },
   "outputs": [],
   "source": [
    "print eigvalues[0]\n",
    "print type(eigvalues[0])\n",
    "e1, e2= np.real(eigvalues)\n",
    "print e1\n",
    "print type(e1)"
   ]
  },
  {
   "cell_type": "markdown",
   "metadata": {},
   "source": [
    "Note there's a slightly annoying thing about accessing the columns of the matrix <mark>eigvectors</mark>, so let's transpose the matrix:"
   ]
  },
  {
   "cell_type": "code",
   "execution_count": null,
   "metadata": {
    "collapsed": false
   },
   "outputs": [],
   "source": [
    "eigvectors=eigvectors.transpose()\n",
    "print eigvectors"
   ]
  },
  {
   "cell_type": "markdown",
   "metadata": {},
   "source": [
    "Let's verify the first eigenvalue/eigenvector pair:"
   ]
  },
  {
   "cell_type": "code",
   "execution_count": null,
   "metadata": {
    "collapsed": false
   },
   "outputs": [],
   "source": [
    "v1=eigvectors[0]\n",
    "print la.norm(A.dot(v1)-e1*v1)"
   ]
  },
  {
   "cell_type": "markdown",
   "metadata": {},
   "source": [
    "#### Exercise\n",
    "\n",
    "Compute the eigenvalues and eigenvectors of the following matrices:\n",
    "$$\n",
    "A=\\left(\\begin{array}{ccc}\n",
    "5&0&0\\\\\n",
    "0&0&0\\\\\n",
    "-1&0&3\n",
    "\\end{array}\n",
    "\\right)\n",
    "\\qquad\\qquad\n",
    "B=\\left(\\begin{array}{cc}\n",
    "\\cos\\left(\\frac{\\pi}{6}\\right) & -\\sin\\left(\\frac{\\pi}{6}\\right) & 0 \\\\\n",
    "\\sin\\left(\\frac{\\pi}{6}\\right) & \\cos\\left(\\frac{\\pi}{6}\\right) & 0 \\\\\n",
    "0 & 0 & 1\n",
    "\\end{array}\\right)\n",
    "\\qquad\\qquad\n",
    "C=\\left(\\begin{array}{cccc}\n",
    "5&-2&2&-4\\\\\n",
    "7&-4&2&-4\\\\\n",
    "4&-4&2&0\\\\\n",
    "3&-1&1&-3\n",
    "\\end{array}\\right)\n",
    "$$\n",
    "Verify them as we did above."
   ]
  },
  {
   "cell_type": "markdown",
   "metadata": {},
   "source": [
    "#### Exercise\n",
    "\n",
    "Matrix $B$ in the above example is a rotation matrix. It corresponds to a rotation of $\\pi/6$ in the $xy$-plane of $\\mathbb{R}^3$. Thus, it fixes the $z$-axis. Notice that $(0,0,1)$ is one of the eigenvectors you got and it corresponded to the eigenvalue $1$.\n",
    "\n",
    "Not all matrices that correspond to rotations in $\\mathbb{R}^3$ look like this, but they all fix some line in $\\mathbb{R}^3$. You can identify it as the multiples of the eigenvector corresponding to the eigenvalue $1$.\n",
    "\n",
    "Consider the matrix:\n",
    "$$\n",
    "\\left(\\begin{array}{ccc}\n",
    "\\frac{1}{3}(1+\\sqrt{3}) & \\frac{1}{3}(1-\\sqrt{3}) & \\frac{1}{3}\\\\\n",
    "\\frac{1}{3} & \\frac{1}{3}(1+\\sqrt{3}) & \\frac{1}{3}(1-\\sqrt{3})\\\\\n",
    "\\frac{1}{3}(1-\\sqrt{3}) & \\frac{1}{3} & \\frac{1}{3}(1+\\sqrt{3})\n",
    "\\end{array}\n",
    "\\right)\n",
    "$$\n",
    "\n",
    "This is a rotation matrix. Find the corresponding axis of rotation by solving numerically for the eigenvalues and eigenvectors."
   ]
  },
  {
   "cell_type": "markdown",
   "metadata": {},
   "source": [
    "#### Exercise\n",
    "\n",
    "A $2\\times 2$ matrix $A$ gives a discrete dynamical system in $\\mathbb{R}^2$ by iteratively applying the matrix $A$ to an initial vector.\n",
    "\n",
    "That is, given an initial vector $u=(x_0,y_0)$, its orbit under the dynamical system induced by $A$ is the sequence:\n",
    "$$\n",
    "u\\,,\\, Au\\,,\\,A^2u\\,,\\,A^3u\\,,\\,...\n",
    "$$\n",
    "\n",
    "The origin is always a fixed point of these systems. Its stability can often be explained by looking at the real parts of the eigenvalues of the matrix $A$. If the eigenvalues all have real parts with magnitude less than $1$, the origin is stable. If there are eigenvalues with real parts having magnitude greater than $1$, then the origin is unstable. If there are eigenvalues with real parts having magnitude $1$, we can't use the eigenvalues.\n",
    "\n",
    "Consider the following family of matrices:\n",
    "$$\n",
    "M_a:=\\left(\\begin{array}{cc}a & 1 \\\\ 0 & a\\end{array}\\right)\n",
    "$$\n",
    " \n",
    "1. Consider the case $a=2$. Pick a vector near the origin. You can plot its orbit under $M_a$ by plotting a scatterplot of the sequence of vectors in its orbit. Make such a plot. You can do more than one orbit by using colors to distinguish them. It may also be useful to use labels to identify the initial point in an orbit and later points.\n",
    "1. Instead of plotting the orbits you can instead compute and plot the norms of the orbits, this will be a sequence of numbers, and if it is decreasing to $0$ it means the orbit is tending towards the origin.\n",
    "1. Do the same for $a=\\frac{1}{2}$.\n",
    "1. Try some various values of $a$ around $a=1$.\n",
    "1. Use the plots to make a conjecture as to whether the origin is stable. If you want to make a general statement, you can try to conjecture stability in terms of whether $|a|>1$ or $|a|<1$.\n",
    "1. Numerically compute the eigenvalues, were you able to guess right for the cases you looked at?"
   ]
  },
  {
   "cell_type": "markdown",
   "metadata": {},
   "source": [
    "### Matrix Factorizations: An Example\n",
    "\n",
    "There are many special matrix factorizations, and Python has many built in functions to work with these.\n",
    "\n",
    "Let's look at the LU Factorization, or more precisely the PLU factorization.\n",
    "\n",
    "Solving a system involving back-substitution is easy.  For example, solving:\n",
    "\n",
    "$$\n",
    "\\begin{array}{cccc}\n",
    "x &   & & =1 \\\\\n",
    "x & +2y & & =2\\\\\n",
    "x & +2y & +3z &= 3\n",
    "\\end{array}\n",
    "$$\n",
    "\n",
    "This corresponds to the triangular matrix:\n",
    "\n",
    "$$\n",
    "\\left(\n",
    "\\begin{array}{ccc}\n",
    "1 & 0 & 0\\\\\n",
    "1 & 2 & 0\\\\\n",
    "1 & 2 & 3 \n",
    "\\end{array}\n",
    "\\right)\n",
    "$$\n",
    "\n",
    "It should be no surprise that your computer also finds it easy to do these sort of systems.\n",
    "\n",
    "Suppose you have to solve a bunch of systems with the same coefficient matrix:\n",
    "\n",
    "$$\n",
    "A\\mathbf{x}=\\mathbf{b_1} \\\\\n",
    "A\\mathbf{x}=\\mathbf{b_2} \\\\\n",
    "A\\mathbf{x}=\\mathbf{b_3} \\\\\n",
    "$$\n",
    "\n",
    "and suppose it takes a long time to just go ahead and solve the system directly, maybe because $A$ doesn't have many zeros and is really big.\n",
    "\n",
    "Then it would be useful to solve it once and do it smartly.  One way is to produce an LU factorization.  This is a triple of matrices $P$, $L$, and $U$ such that:\n",
    "\n",
    "* $P$ is the identity matrix with columns permuted\n",
    "* $L$ is lower triangular with $1$'s on the diagonal\n",
    "* $U$ is upper triangular\n",
    "* $A=PLU$\n",
    "\n",
    "Finding this factorization is actually done implicity every time you do Gaussian elimination and is the expensive phase of solving.  \n",
    "\n",
    "Given a system $A\\mathbf{x}=\\mathbf{b}$ note that you can write:\n",
    "\n",
    "$$\n",
    "PL(U\\mathbf{x})=\\mathbf{b}\n",
    "$$\n",
    "\n",
    "Set $y:=U\\mathbf{x}$.  A solution of this system gives a solution of $PL\\mathbf{y}=\\mathbf{b}$ or equivalently:\n",
    "\n",
    "$$\n",
    "L\\mathbf{y}=P^T\\mathbf{b}\n",
    "$$\n",
    "\n",
    "since $P^T$ is the inverse of $P$.  Thus, solving the original system is equivalent to solving the pair of systems:\n",
    "\n",
    "$$\n",
    "L\\mathbf{y}=P^T\\mathbf{b}\\\\\n",
    "U\\mathbf{x}=\\mathbf{y}\n",
    "$$\n",
    "\n",
    "and these are easier to solve because the coefficient matrices are triangular!\n",
    "\n",
    "Thus it makes sense to find this factorization if you have to solve many linear systems with the same coefficient matrix.\n",
    "\n",
    "Scipy has tools to find it and to solve triangular matrix systems quickly."
   ]
  },
  {
   "cell_type": "code",
   "execution_count": null,
   "metadata": {
    "collapsed": false
   },
   "outputs": [],
   "source": [
    "from scipy.linalg import lu, solve_triangular\n",
    "\n",
    "A=np.array([[3,-7,-2,2],[-3,5,1,0],[6,-4,0,-5],[-9,5,-5,12]], dtype=float)\n",
    "b=np.array([-9,5,7,11], dtype=float)\n",
    "\n",
    "P, L, U = lu(A)\n",
    "\n",
    "print P\n",
    "print \"\"\n",
    "\n",
    "print L\n",
    "print \"\"\n",
    "\n",
    "print U"
   ]
  },
  {
   "cell_type": "code",
   "execution_count": null,
   "metadata": {
    "collapsed": false
   },
   "outputs": [],
   "source": [
    "y=solve_triangular(L,np.dot(P.T,b),lower=True)\n",
    "x=solve_triangular(U,y)\n",
    "\n",
    "la.norm(A.dot(x)-b)"
   ]
  },
  {
   "cell_type": "markdown",
   "metadata": {},
   "source": [
    "Now the matrices $P$, $L$, and $U$ are ready to solve another system for another right hand side $b$ using solve_triangular.\n",
    "\n",
    "There are many other factorizations that are useful for different purposes. \n",
    "\n",
    "Using Numpy and Scipy you can implement most of these rather easily."
   ]
  },
  {
   "cell_type": "markdown",
   "metadata": {},
   "source": [
    "#### Exercise\n",
    "\n",
    "Write a function that solves a linear system by using the above method: computing an LU factorization then solving te corresponding triangular matrix. Have it return the factorization and the solution. \n",
    "\n",
    "Use Scipy's PLU factorization function.\n",
    "\n",
    "Apply this to the linear system:\n",
    "$$\n",
    "A=\\left(\\begin{array}{ccc}3&-7&-2\\\\-3&5&1\\\\6&-4&0\\end{array}\\right)\n",
    "\\qquad\\qquad\n",
    "b=\\left(\\begin{array}{c}-7\\\\5\\\\2\\end{array}\\right)\n",
    "$$\n",
    "and verify your answer."
   ]
  },
  {
   "cell_type": "code",
   "execution_count": null,
   "metadata": {
    "collapsed": true
   },
   "outputs": [],
   "source": []
  }
 ],
 "metadata": {
  "kernelspec": {
   "display_name": "Python 2",
   "language": "python",
   "name": "python2"
  },
  "language_info": {
   "codemirror_mode": {
    "name": "ipython",
    "version": 2
   },
   "file_extension": ".py",
   "mimetype": "text/x-python",
   "name": "python",
   "nbconvert_exporter": "python",
   "pygments_lexer": "ipython2",
   "version": "2.7.13"
  }
 },
 "nbformat": 4,
 "nbformat_minor": 0
}
