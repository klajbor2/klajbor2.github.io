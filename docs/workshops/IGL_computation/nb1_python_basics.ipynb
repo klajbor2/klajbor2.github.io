{
 "cells": [
  {
   "cell_type": "markdown",
   "metadata": {},
   "source": [
    "# Basics of Python Syntax"
   ]
  },
  {
   "cell_type": "markdown",
   "metadata": {},
   "source": [
    "Python is an interpreted language that is one of the most used languages today. It is particularly useful for scientific computation, largely due to the scientific computation packages <mark>numpy</mark> and <mark>scipy</mark>.\n",
    "\n",
    "These notes contain the basics of Python syntax in as brief a manner as possible. As with any programming language, the best way to learn is by using it. The exercises included here are really the main event."
   ]
  },
  {
   "cell_type": "markdown",
   "metadata": {},
   "source": [
    "### Printing"
   ]
  },
  {
   "cell_type": "code",
   "execution_count": 1,
   "metadata": {
    "collapsed": false
   },
   "outputs": [
    {
     "name": "stdout",
     "output_type": "stream",
     "text": [
      "Hello world, I'm a synthetic organism.\n",
      "I'm here to make your decisions for you.\n"
     ]
    }
   ],
   "source": [
    "print \"Hello world, I'm a synthetic organism.\\nI'm here to make your decisions for you.\""
   ]
  },
  {
   "cell_type": "markdown",
   "metadata": {},
   "source": [
    "Of course, it's just saying what we want it to say, so no need to fear a robot takeover just yet.  \n",
    "\n",
    "The stuff in quotation marks is called a string or <mark>str</mark>, it's one of many **data types** we'll encounter."
   ]
  },
  {
   "cell_type": "markdown",
   "metadata": {},
   "source": [
    "### Basic mathematical operations"
   ]
  },
  {
   "cell_type": "code",
   "execution_count": 2,
   "metadata": {
    "collapsed": false
   },
   "outputs": [
    {
     "data": {
      "text/plain": [
       "2"
      ]
     },
     "execution_count": 2,
     "metadata": {},
     "output_type": "execute_result"
    }
   ],
   "source": [
    "1+1"
   ]
  },
  {
   "cell_type": "code",
   "execution_count": 3,
   "metadata": {
    "collapsed": false
   },
   "outputs": [
    {
     "data": {
      "text/plain": [
       "2"
      ]
     },
     "execution_count": 3,
     "metadata": {},
     "output_type": "execute_result"
    }
   ],
   "source": [
    "1+1 # integer addition"
   ]
  },
  {
   "cell_type": "code",
   "execution_count": 4,
   "metadata": {
    "collapsed": false
   },
   "outputs": [
    {
     "data": {
      "text/plain": [
       "21"
      ]
     },
     "execution_count": 4,
     "metadata": {},
     "output_type": "execute_result"
    }
   ],
   "source": [
    "3*7 # multiplication"
   ]
  },
  {
   "cell_type": "code",
   "execution_count": 5,
   "metadata": {
    "collapsed": false
   },
   "outputs": [
    {
     "data": {
      "text/plain": [
       "2"
      ]
     },
     "execution_count": 5,
     "metadata": {},
     "output_type": "execute_result"
    }
   ],
   "source": [
    "7%5 # congruence, in this case mod 5"
   ]
  },
  {
   "cell_type": "code",
   "execution_count": 6,
   "metadata": {
    "collapsed": false
   },
   "outputs": [
    {
     "data": {
      "text/plain": [
       "0"
      ]
     },
     "execution_count": 6,
     "metadata": {},
     "output_type": "execute_result"
    }
   ],
   "source": [
    "1/2"
   ]
  },
  {
   "cell_type": "markdown",
   "metadata": {},
   "source": [
    "Wait, what?\n",
    "\n",
    "Ah, yes, here's a subtlety.  Computers tend to emphasize the difference between <mark>int</mark> and <mark>float</mark>.  These are two other **data types**.  <mark>Ints</mark> are integers, which well... you know what those are, while <mark>floats</mark> are basically rational numbers expressed in decimal form.\n",
    "\n",
    "Now Python tries to interpret what type you're using and when it comes to evaluating the expression 1/2 it thinks integer or <mark>int</mark>.  You need to force it to treat it like a <mark>float</mark>, like so..."
   ]
  },
  {
   "cell_type": "code",
   "execution_count": 100,
   "metadata": {
    "collapsed": false
   },
   "outputs": [
    {
     "data": {
      "text/plain": [
       "0.5"
      ]
     },
     "execution_count": 100,
     "metadata": {},
     "output_type": "execute_result"
    }
   ],
   "source": [
    "float(1)/float(2) # treats the 1 and 2 as floats, printing an output that is a float"
   ]
  },
  {
   "cell_type": "code",
   "execution_count": 101,
   "metadata": {
    "collapsed": false
   },
   "outputs": [
    {
     "data": {
      "text/plain": [
       "1.5"
      ]
     },
     "execution_count": 101,
     "metadata": {},
     "output_type": "execute_result"
    }
   ],
   "source": [
    "float(3)/2 # it suffices to make one a float, Python will try to be as \"accurate\" as possible"
   ]
  },
  {
   "cell_type": "markdown",
   "metadata": {},
   "source": [
    "Take that synthetic!\n",
    "\n",
    "Believe it or not, depending on what you're working on, it might make sense to accept the result 1/2=0... Just don't go thinking that that's true mathematically (mathematically, you're just taking the *floor* of the result)."
   ]
  },
  {
   "cell_type": "code",
   "execution_count": 7,
   "metadata": {
    "collapsed": false
   },
   "outputs": [
    {
     "data": {
      "text/plain": [
       "1.5"
      ]
     },
     "execution_count": 7,
     "metadata": {},
     "output_type": "execute_result"
    }
   ],
   "source": [
    "3./2 # you can also make it be a float by using a dot"
   ]
  },
  {
   "cell_type": "markdown",
   "metadata": {},
   "source": [
    "We can also ask the superior synthetic intelligence... *ahem* ...the computer whether something is true or not.  \n",
    "\n",
    "For example:"
   ]
  },
  {
   "cell_type": "code",
   "execution_count": 8,
   "metadata": {
    "collapsed": false
   },
   "outputs": [
    {
     "data": {
      "text/plain": [
       "True"
      ]
     },
     "execution_count": 8,
     "metadata": {},
     "output_type": "execute_result"
    }
   ],
   "source": [
    "2>1"
   ]
  },
  {
   "cell_type": "markdown",
   "metadata": {},
   "source": [
    "The output also has a **data type** by the way, it's called **bool** or boolean, and it comes in two flavors: <mark>True</mark> or <mark>False</mark>.\n",
    "\n",
    "You can even use logical operators:"
   ]
  },
  {
   "cell_type": "code",
   "execution_count": 9,
   "metadata": {
    "collapsed": false
   },
   "outputs": [
    {
     "data": {
      "text/plain": [
       "True"
      ]
     },
     "execution_count": 9,
     "metadata": {},
     "output_type": "execute_result"
    }
   ],
   "source": [
    "3>1 and 2>0"
   ]
  },
  {
   "cell_type": "markdown",
   "metadata": {},
   "source": [
    "### Variables\n",
    "\n",
    "You can get more done by storing results like the above in variables.\n",
    "\n",
    "You can then print and manipulate these variables."
   ]
  },
  {
   "cell_type": "code",
   "execution_count": 10,
   "metadata": {
    "collapsed": false
   },
   "outputs": [
    {
     "data": {
      "text/plain": [
       "1"
      ]
     },
     "execution_count": 10,
     "metadata": {},
     "output_type": "execute_result"
    }
   ],
   "source": [
    "x=1\n",
    "x"
   ]
  },
  {
   "cell_type": "code",
   "execution_count": 11,
   "metadata": {
    "collapsed": false
   },
   "outputs": [
    {
     "data": {
      "text/plain": [
       "2"
      ]
     },
     "execution_count": 11,
     "metadata": {},
     "output_type": "execute_result"
    }
   ],
   "source": [
    "x+1"
   ]
  },
  {
   "cell_type": "code",
   "execution_count": 12,
   "metadata": {
    "collapsed": false
   },
   "outputs": [
    {
     "data": {
      "text/plain": [
       "1"
      ]
     },
     "execution_count": 12,
     "metadata": {},
     "output_type": "execute_result"
    }
   ],
   "source": [
    "x"
   ]
  },
  {
   "cell_type": "markdown",
   "metadata": {},
   "source": [
    "Notice in the above that the value of <mark>x</mark> wasn't changed when we added 1 to it, to change it:"
   ]
  },
  {
   "cell_type": "code",
   "execution_count": 13,
   "metadata": {
    "collapsed": false
   },
   "outputs": [
    {
     "data": {
      "text/plain": [
       "2"
      ]
     },
     "execution_count": 13,
     "metadata": {},
     "output_type": "execute_result"
    }
   ],
   "source": [
    "x=x+1\n",
    "x"
   ]
  },
  {
   "cell_type": "markdown",
   "metadata": {},
   "source": [
    "Variables can be most data types."
   ]
  },
  {
   "cell_type": "code",
   "execution_count": 14,
   "metadata": {
    "collapsed": true
   },
   "outputs": [],
   "source": [
    "y=\"silly organics\""
   ]
  },
  {
   "cell_type": "code",
   "execution_count": 15,
   "metadata": {
    "collapsed": true
   },
   "outputs": [],
   "source": [
    "z=float(2)"
   ]
  },
  {
   "cell_type": "code",
   "execution_count": 16,
   "metadata": {
    "collapsed": false
   },
   "outputs": [
    {
     "data": {
      "text/plain": [
       "4.0"
      ]
     },
     "execution_count": 16,
     "metadata": {},
     "output_type": "execute_result"
    }
   ],
   "source": [
    "x+z"
   ]
  },
  {
   "cell_type": "markdown",
   "metadata": {},
   "source": [
    "But not all data types can be combined, when they can't you get a <mark>type error</mark>:"
   ]
  },
  {
   "cell_type": "code",
   "execution_count": 17,
   "metadata": {
    "collapsed": false
   },
   "outputs": [
    {
     "ename": "TypeError",
     "evalue": "unsupported operand type(s) for +: 'int' and 'str'",
     "output_type": "error",
     "traceback": [
      "\u001b[1;31m---------------------------------------------------------------------------\u001b[0m",
      "\u001b[1;31mTypeError\u001b[0m                                 Traceback (most recent call last)",
      "\u001b[1;32m<ipython-input-17-f6b1ff77d955>\u001b[0m in \u001b[0;36m<module>\u001b[1;34m()\u001b[0m\n\u001b[1;32m----> 1\u001b[1;33m \u001b[0mx\u001b[0m\u001b[1;33m+\u001b[0m\u001b[0my\u001b[0m\u001b[1;33m\u001b[0m\u001b[0m\n\u001b[0m",
      "\u001b[1;31mTypeError\u001b[0m: unsupported operand type(s) for +: 'int' and 'str'"
     ]
    }
   ],
   "source": [
    "x+y"
   ]
  },
  {
   "cell_type": "markdown",
   "metadata": {},
   "source": [
    "You can check data types with the <mark>type</mark> function."
   ]
  },
  {
   "cell_type": "code",
   "execution_count": 18,
   "metadata": {
    "collapsed": false
   },
   "outputs": [
    {
     "data": {
      "text/plain": [
       "int"
      ]
     },
     "execution_count": 18,
     "metadata": {},
     "output_type": "execute_result"
    }
   ],
   "source": [
    "type(x)"
   ]
  },
  {
   "cell_type": "code",
   "execution_count": 19,
   "metadata": {
    "collapsed": false
   },
   "outputs": [
    {
     "data": {
      "text/plain": [
       "str"
      ]
     },
     "execution_count": 19,
     "metadata": {},
     "output_type": "execute_result"
    }
   ],
   "source": [
    "type(y)"
   ]
  },
  {
   "cell_type": "code",
   "execution_count": 20,
   "metadata": {
    "collapsed": false
   },
   "outputs": [
    {
     "data": {
      "text/plain": [
       "float"
      ]
     },
     "execution_count": 20,
     "metadata": {},
     "output_type": "execute_result"
    }
   ],
   "source": [
    "type(z)"
   ]
  },
  {
   "cell_type": "markdown",
   "metadata": {},
   "source": [
    "If for any reason, you feel the need to delete a variable.  The keyword <mark>del</mark> does the trick."
   ]
  },
  {
   "cell_type": "code",
   "execution_count": 21,
   "metadata": {
    "collapsed": false
   },
   "outputs": [
    {
     "data": {
      "text/plain": [
       "1"
      ]
     },
     "execution_count": 21,
     "metadata": {},
     "output_type": "execute_result"
    }
   ],
   "source": [
    "a=1\n",
    "a"
   ]
  },
  {
   "cell_type": "code",
   "execution_count": 22,
   "metadata": {
    "collapsed": false
   },
   "outputs": [
    {
     "ename": "NameError",
     "evalue": "name 'a' is not defined",
     "output_type": "error",
     "traceback": [
      "\u001b[1;31m---------------------------------------------------------------------------\u001b[0m",
      "\u001b[1;31mNameError\u001b[0m                                 Traceback (most recent call last)",
      "\u001b[1;32m<ipython-input-22-ef9d13752aff>\u001b[0m in \u001b[0;36m<module>\u001b[1;34m()\u001b[0m\n\u001b[0;32m      1\u001b[0m \u001b[1;32mdel\u001b[0m \u001b[0ma\u001b[0m\u001b[1;33m\u001b[0m\u001b[0m\n\u001b[1;32m----> 2\u001b[1;33m \u001b[0ma\u001b[0m\u001b[1;33m\u001b[0m\u001b[0m\n\u001b[0m",
      "\u001b[1;31mNameError\u001b[0m: name 'a' is not defined"
     ]
    }
   ],
   "source": [
    "del a\n",
    "a"
   ]
  },
  {
   "cell_type": "markdown",
   "metadata": {},
   "source": [
    "### Conditionals (if, else, elif)\n",
    "\n",
    "Earlier we said, the computer can determine <mark>True</mark> statements from <mark>False</mark> ones.  We can use this to help it make decisions via <mark>conditionals</mark>."
   ]
  },
  {
   "cell_type": "markdown",
   "metadata": {},
   "source": [
    "The <mark>if</mark> conditional executes a code if the given condition is <mark>True</mark>. For example:"
   ]
  },
  {
   "cell_type": "code",
   "execution_count": 23,
   "metadata": {
    "collapsed": false
   },
   "outputs": [
    {
     "name": "stdout",
     "output_type": "stream",
     "text": [
      "Of course organic, the condition is True.\n"
     ]
    }
   ],
   "source": [
    "x=42\n",
    "y=-1\n",
    "\n",
    "if (x>y):\n",
    "    print \"Of course organic, the condition is True.\""
   ]
  },
  {
   "cell_type": "markdown",
   "metadata": {},
   "source": [
    "Despite the computer's snarkiness, we might get a time when the condition we ask fails.  In that case, the <mark>if</mark> statement will simply not evaluate the commands."
   ]
  },
  {
   "cell_type": "code",
   "execution_count": 24,
   "metadata": {
    "collapsed": true
   },
   "outputs": [],
   "source": [
    "if (x<y):\n",
    "    print \"Of course organic, the condition is True.\""
   ]
  },
  {
   "cell_type": "markdown",
   "metadata": {},
   "source": [
    "But notice that we didn't get any prompt saying it didn't execute. \n",
    "\n",
    "Additionally, sometimes we want to execute some instructions **if** the condition fails.  The <mark>else</mark> conditional is useful for this."
   ]
  },
  {
   "cell_type": "code",
   "execution_count": 25,
   "metadata": {
    "collapsed": false
   },
   "outputs": [
    {
     "name": "stdout",
     "output_type": "stream",
     "text": [
      "No, no, no, organic, the condition is NOT True\n"
     ]
    }
   ],
   "source": [
    "if (x<y):\n",
    "    print \"Of course organic, the condition is True\"\n",
    "else:\n",
    "    print \"No, no, no, organic, the condition is NOT True\""
   ]
  },
  {
   "cell_type": "markdown",
   "metadata": {},
   "source": [
    "What if we wanted to check multiple conditions if the first fails you say? Well, there's a conditional for that! The <mark>elif</mark> statement."
   ]
  },
  {
   "cell_type": "code",
   "execution_count": 26,
   "metadata": {
    "collapsed": false
   },
   "outputs": [
    {
     "name": "stdout",
     "output_type": "stream",
     "text": [
      "Organic, the absolute value of  42 is  42\n"
     ]
    }
   ],
   "source": [
    "x=42\n",
    "\n",
    "if (x<0):\n",
    "    print \"Organic, the absolute value of \",\n",
    "    print x,\n",
    "    print \"is \",\n",
    "    print (-1)*x\n",
    "elif (x==0):\n",
    "    print \"Organic, the absolute value of \",\n",
    "    print x,\n",
    "    print \"is \",\n",
    "    print x\n",
    "else:\n",
    "    print \"Organic, the absolute value of \",\n",
    "    print x,\n",
    "    print \"is \",\n",
    "    print x"
   ]
  },
  {
   "cell_type": "markdown",
   "metadata": {},
   "source": [
    "### Loops (while, for)\n",
    "\n",
    "Us organics get tired really quickly doing computations, but luckily we can get the computers to do it for us. That's what <mark>loops</mark> are for.\n",
    "\n",
    "The most basic is the <mark>while</mark> loop.  You give it a condition and it will continue to execute its orders **while** the condition is true, checking the condition after each complete execution of its orders."
   ]
  },
  {
   "cell_type": "code",
   "execution_count": 27,
   "metadata": {
    "collapsed": false
   },
   "outputs": [
    {
     "name": "stdout",
     "output_type": "stream",
     "text": [
      "10\n",
      "9\n",
      "8\n",
      "7\n",
      "6\n",
      "5\n",
      "4\n",
      "3\n",
      "2\n",
      "1\n"
     ]
    }
   ],
   "source": [
    "counter = 1 # need to \"initialize\" a counter to guide the \"while loop counting\"\n",
    "\n",
    "while counter <= 10 :\n",
    "    print 10-counter+1\n",
    "    counter=counter+1"
   ]
  },
  {
   "cell_type": "markdown",
   "metadata": {},
   "source": [
    "Be careful of the infinite loop!  If we remove the \"updating\" of <mark>counter</mark> in the above, the loop will never end.\n",
    "\n",
    "If you get stuck in one, look away (just kidding... don't do that to your computer), or just press <mark>Ctrl+C</mark>. This is called a <mark>Keyboard Interrupt</mark>, but avoid having to use it.\n",
    "\n",
    "Infinite loops are to be feared, which is why many people dislike <mark>while</mark> loops."
   ]
  },
  {
   "cell_type": "markdown",
   "metadata": {
    "collapsed": true
   },
   "source": [
    "A sleeker looping tool is the <mark>for</mark> loop.  This is \"looping bread and butter\", with it you specify exactly how many times you want to loop."
   ]
  },
  {
   "cell_type": "code",
   "execution_count": 28,
   "metadata": {
    "collapsed": false,
    "scrolled": true
   },
   "outputs": [
    {
     "name": "stdout",
     "output_type": "stream",
     "text": [
      "10\n",
      "9\n",
      "8\n",
      "7\n",
      "6\n",
      "5\n",
      "4\n",
      "3\n",
      "2\n",
      "1\n"
     ]
    }
   ],
   "source": [
    "for counter in range(10): # range is simply the numbers from 0 to one less than the number specified\n",
    "    print 10 - counter"
   ]
  },
  {
   "cell_type": "markdown",
   "metadata": {},
   "source": [
    "### Functions\n",
    "\n",
    "Functions are fundamental when writing code.  A function provides, for lack of a better word, some functionality that you can call whenever you need it.\n",
    "\n",
    "For example, we've written a minimum function, which is admittedly useless considering Python has this built in.  \n",
    "\n",
    "We've called it <mark>WhatsLess</mark> and it takes two inputs and tells you which is smallest."
   ]
  },
  {
   "cell_type": "code",
   "execution_count": 29,
   "metadata": {
    "collapsed": false
   },
   "outputs": [
    {
     "data": {
      "text/plain": [
       "314"
      ]
     },
     "execution_count": 29,
     "metadata": {},
     "output_type": "execute_result"
    }
   ],
   "source": [
    "def WhatsLess(x,y):    \n",
    "    # the preface def says we're defining a function with name WhatsLess and inputs x and y\n",
    "    # we've embedded an if statement into the function\n",
    "    if x<y:\n",
    "        return x # the return command means the function's output\n",
    "    elif x>y:\n",
    "        return y\n",
    "    else:\n",
    "        return \"Silly organic, they are equal\"\n",
    "\n",
    "# Need some numbers to compare\n",
    "x = 314\n",
    "y = float(629)/float(2)\n",
    "\n",
    "# Let's compare them\n",
    "WhatsLess(x,y)"
   ]
  },
  {
   "cell_type": "code",
   "execution_count": 30,
   "metadata": {
    "collapsed": false
   },
   "outputs": [
    {
     "data": {
      "text/plain": [
       "'Silly organic, they are equal'"
      ]
     },
     "execution_count": 30,
     "metadata": {},
     "output_type": "execute_result"
    }
   ],
   "source": [
    "# again be careful about those data types, look at this:\n",
    "z = 629/2\n",
    "\n",
    "WhatsLess(x,z)"
   ]
  },
  {
   "cell_type": "markdown",
   "metadata": {},
   "source": [
    "<mark>return</mark> marks the output of the function. Anything that happens within the function, stays in the function, so make sure you return what you need.\n",
    "\n",
    "For example, consider this function:"
   ]
  },
  {
   "cell_type": "code",
   "execution_count": 31,
   "metadata": {
    "collapsed": false
   },
   "outputs": [
    {
     "data": {
      "text/plain": [
       "2"
      ]
     },
     "execution_count": 31,
     "metadata": {},
     "output_type": "execute_result"
    }
   ],
   "source": [
    "x = 1\n",
    "def Example(x):\n",
    "    Something = x - 1\n",
    "    return x +1\n",
    "\n",
    "Example(x)"
   ]
  },
  {
   "cell_type": "markdown",
   "metadata": {},
   "source": [
    "Note the value of x is unaffected, it was only changed internally, and was then returned as an output of the function:"
   ]
  },
  {
   "cell_type": "code",
   "execution_count": 32,
   "metadata": {
    "collapsed": false
   },
   "outputs": [
    {
     "data": {
      "text/plain": [
       "1"
      ]
     },
     "execution_count": 32,
     "metadata": {},
     "output_type": "execute_result"
    }
   ],
   "source": [
    "x"
   ]
  },
  {
   "cell_type": "markdown",
   "metadata": {},
   "source": [
    "Also note, that the definition of the function <mark>Example</mark> used <mark>x</mark> as a dummy variable.\n",
    "\n",
    "Furthermore, the variable <mark>Something</mark> was created locally, within the function, and so doesn't persist outside:"
   ]
  },
  {
   "cell_type": "code",
   "execution_count": 33,
   "metadata": {
    "collapsed": false
   },
   "outputs": [
    {
     "ename": "NameError",
     "evalue": "name 'Something' is not defined",
     "output_type": "error",
     "traceback": [
      "\u001b[1;31m---------------------------------------------------------------------------\u001b[0m",
      "\u001b[1;31mNameError\u001b[0m                                 Traceback (most recent call last)",
      "\u001b[1;32m<ipython-input-33-3b9ddae5294c>\u001b[0m in \u001b[0;36m<module>\u001b[1;34m()\u001b[0m\n\u001b[1;32m----> 1\u001b[1;33m \u001b[0mSomething\u001b[0m\u001b[1;33m\u001b[0m\u001b[0m\n\u001b[0m",
      "\u001b[1;31mNameError\u001b[0m: name 'Something' is not defined"
     ]
    }
   ],
   "source": [
    "Something"
   ]
  },
  {
   "cell_type": "markdown",
   "metadata": {},
   "source": [
    "Note the output of a function can be stored in a variable:"
   ]
  },
  {
   "cell_type": "code",
   "execution_count": 34,
   "metadata": {
    "collapsed": false
   },
   "outputs": [
    {
     "name": "stdout",
     "output_type": "stream",
     "text": [
      "1\n"
     ]
    }
   ],
   "source": [
    "TheLeast = WhatsLess(x,y)\n",
    "print TheLeast"
   ]
  },
  {
   "cell_type": "markdown",
   "metadata": {},
   "source": [
    "Functions have their own data type, look:"
   ]
  },
  {
   "cell_type": "code",
   "execution_count": 35,
   "metadata": {
    "collapsed": false
   },
   "outputs": [
    {
     "name": "stdout",
     "output_type": "stream",
     "text": [
      "<type 'function'>\n"
     ]
    }
   ],
   "source": [
    "print type(Example)"
   ]
  },
  {
   "cell_type": "markdown",
   "metadata": {},
   "source": [
    "Functions can also be defined using lambda notation as follows:"
   ]
  },
  {
   "cell_type": "code",
   "execution_count": 36,
   "metadata": {
    "collapsed": false
   },
   "outputs": [
    {
     "name": "stdout",
     "output_type": "stream",
     "text": [
      "4\n",
      "<type 'function'>\n"
     ]
    }
   ],
   "source": [
    "f = lambda x : x**2\n",
    "\n",
    "print f(2)\n",
    "\n",
    "print type(f)"
   ]
  },
  {
   "cell_type": "markdown",
   "metadata": {},
   "source": [
    "### Recursion\n",
    "\n",
    "Recursion is a powerful strategy for computing with functions. It amounts to having a function call itself to achieve a task.\n",
    "\n",
    "It's best to illustrate by example."
   ]
  },
  {
   "cell_type": "code",
   "execution_count": 37,
   "metadata": {
    "collapsed": false
   },
   "outputs": [],
   "source": [
    "# This defines the factorial of a positive integer\n",
    "\n",
    "def factorial(n):\n",
    "    if n==0:\n",
    "        return 1\n",
    "    else:\n",
    "        return n*factorial(n-1)"
   ]
  },
  {
   "cell_type": "code",
   "execution_count": 38,
   "metadata": {
    "collapsed": false
   },
   "outputs": [
    {
     "data": {
      "text/plain": [
       "24"
      ]
     },
     "execution_count": 38,
     "metadata": {},
     "output_type": "execute_result"
    }
   ],
   "source": [
    "factorial(4)"
   ]
  },
  {
   "cell_type": "markdown",
   "metadata": {},
   "source": [
    "#### Exercises\n",
    "\n",
    "1. Write a function that sums the first positive integers up to a given number n.\n",
    "\n",
    "1. Write a function that takes as input three numbers, if the values are distinct it should output their sum and if the values are all equal if should output three times their sum.\n",
    "\n",
    "1. Write a function that multiplies two given positive integers, but you can only use + and - in your code.\n",
    "\n",
    "1. Write a function that sums the first positive integers up to a number n that are multiples of 3 or 5."
   ]
  },
  {
   "cell_type": "markdown",
   "metadata": {},
   "source": [
    "### Lists\n",
    "\n",
    "Lists are literally what the name implies, lists of elements (including other lists) that you can modify and use as a variable."
   ]
  },
  {
   "cell_type": "code",
   "execution_count": 42,
   "metadata": {
    "collapsed": false
   },
   "outputs": [
    {
     "name": "stdout",
     "output_type": "stream",
     "text": [
      "[1, 2, 3, 4, 5, 6, 7, 8, 9, 10, -1.2, 3.14, 42]\n",
      "['Hi', 'Organic', 'No']\n",
      "[333, 'What?', 'Synthetics']\n",
      "[[1, 2], 3, ['hahahaha'], [1, 2, 3, 4, 5, 6, 7, 8, 9, 10, -1.2, 3.14, 42]]\n"
     ]
    }
   ],
   "source": [
    "ListOfNumbers=[1,2,3,4,5,6,7,8,9,10,-1.2,3.14,42]\n",
    "ListOfStrings=['Hi','Organic','No']\n",
    "HybridLizzzt=[333,'What?','Synthetics']\n",
    "ListOfLists=[[1,2],3,['hahahaha'],ListOfNumbers]\n",
    "print ListOfNumbers\n",
    "print ListOfStrings\n",
    "print HybridLizzzt\n",
    "print ListOfLists"
   ]
  },
  {
   "cell_type": "markdown",
   "metadata": {},
   "source": [
    "Printing stuff from lists is easy:"
   ]
  },
  {
   "cell_type": "code",
   "execution_count": 43,
   "metadata": {
    "collapsed": false
   },
   "outputs": [
    {
     "data": {
      "text/plain": [
       "1"
      ]
     },
     "execution_count": 43,
     "metadata": {},
     "output_type": "execute_result"
    }
   ],
   "source": [
    "ListOfNumbers[0] # the position number starts at 0"
   ]
  },
  {
   "cell_type": "code",
   "execution_count": 44,
   "metadata": {
    "collapsed": false
   },
   "outputs": [
    {
     "data": {
      "text/plain": [
       "[1, 2]"
      ]
     },
     "execution_count": 44,
     "metadata": {},
     "output_type": "execute_result"
    }
   ],
   "source": [
    "ListOfLists[0]"
   ]
  },
  {
   "cell_type": "code",
   "execution_count": 45,
   "metadata": {
    "collapsed": false
   },
   "outputs": [
    {
     "data": {
      "text/plain": [
       "42"
      ]
     },
     "execution_count": 45,
     "metadata": {},
     "output_type": "execute_result"
    }
   ],
   "source": [
    "ListOfNumbers[-1]"
   ]
  },
  {
   "cell_type": "code",
   "execution_count": 46,
   "metadata": {
    "collapsed": false
   },
   "outputs": [
    {
     "data": {
      "text/plain": [
       "[3, 4, 5, 6, 7, 8, 9, 10, -1.2, 3.14]"
      ]
     },
     "execution_count": 46,
     "metadata": {},
     "output_type": "execute_result"
    }
   ],
   "source": [
    "ListOfNumbers[2:12]"
   ]
  },
  {
   "cell_type": "code",
   "execution_count": 47,
   "metadata": {
    "collapsed": false
   },
   "outputs": [
    {
     "data": {
      "text/plain": [
       "[1, 3, 5, 7, 9, -1.2, 42]"
      ]
     },
     "execution_count": 47,
     "metadata": {},
     "output_type": "execute_result"
    }
   ],
   "source": [
    "ListOfNumbers[::2]"
   ]
  },
  {
   "cell_type": "code",
   "execution_count": 48,
   "metadata": {
    "collapsed": false
   },
   "outputs": [
    {
     "data": {
      "text/plain": [
       "[2, 5, 8, -1.2]"
      ]
     },
     "execution_count": 48,
     "metadata": {},
     "output_type": "execute_result"
    }
   ],
   "source": [
    "ListOfNumbers[1::3]"
   ]
  },
  {
   "cell_type": "markdown",
   "metadata": {},
   "source": [
    "Changing a list is easy:"
   ]
  },
  {
   "cell_type": "code",
   "execution_count": 49,
   "metadata": {
    "collapsed": false
   },
   "outputs": [
    {
     "data": {
      "text/plain": [
       "['Hi', 'Organic', 'No', 'Why?']"
      ]
     },
     "execution_count": 49,
     "metadata": {},
     "output_type": "execute_result"
    }
   ],
   "source": [
    "ListOfStrings.append('Why?')\n",
    "ListOfStrings"
   ]
  },
  {
   "cell_type": "code",
   "execution_count": 50,
   "metadata": {
    "collapsed": false
   },
   "outputs": [
    {
     "data": {
      "text/plain": [
       "'Hi...'"
      ]
     },
     "execution_count": 50,
     "metadata": {},
     "output_type": "execute_result"
    }
   ],
   "source": [
    "ListOfStrings[0]='Hi...'\n",
    "ListOfStrings[0]"
   ]
  },
  {
   "cell_type": "code",
   "execution_count": 51,
   "metadata": {
    "collapsed": false
   },
   "outputs": [
    {
     "data": {
      "text/plain": [
       "['Hi...', 'Organic', 'No']"
      ]
     },
     "execution_count": 51,
     "metadata": {},
     "output_type": "execute_result"
    }
   ],
   "source": [
    "ListOfStrings.pop()\n",
    "ListOfStrings"
   ]
  },
  {
   "cell_type": "code",
   "execution_count": 52,
   "metadata": {
    "collapsed": false
   },
   "outputs": [
    {
     "data": {
      "text/plain": [
       "['Hi...', 'Organic', 'No', 333, 'What?', 'Synthetics']"
      ]
     },
     "execution_count": 52,
     "metadata": {},
     "output_type": "execute_result"
    }
   ],
   "source": [
    "ListOfStrings + HybridLizzzt"
   ]
  },
  {
   "cell_type": "markdown",
   "metadata": {},
   "source": [
    "The <mark>range</mark> function is a built in list:"
   ]
  },
  {
   "cell_type": "code",
   "execution_count": 53,
   "metadata": {
    "collapsed": false
   },
   "outputs": [
    {
     "data": {
      "text/plain": [
       "[0, 1, 2, 3, 4, 5, 6, 7, 8, 9]"
      ]
     },
     "execution_count": 53,
     "metadata": {},
     "output_type": "execute_result"
    }
   ],
   "source": [
    "UsefulList=range(10)\n",
    "UsefulList"
   ]
  },
  {
   "cell_type": "markdown",
   "metadata": {},
   "source": [
    "Iterating over the elements of a list is both natural and easy:"
   ]
  },
  {
   "cell_type": "code",
   "execution_count": 54,
   "metadata": {
    "collapsed": false
   },
   "outputs": [
    {
     "name": "stdout",
     "output_type": "stream",
     "text": [
      "Hi...\n",
      "Organic\n",
      "No\n"
     ]
    }
   ],
   "source": [
    "for a in ListOfStrings:\n",
    "    print a"
   ]
  },
  {
   "cell_type": "markdown",
   "metadata": {},
   "source": [
    "Lists can be generated using generators:"
   ]
  },
  {
   "cell_type": "code",
   "execution_count": 55,
   "metadata": {
    "collapsed": false
   },
   "outputs": [
    {
     "data": {
      "text/plain": [
       "[0, 1, 2, 3, 4, 5, 6, 7, 8, 9]"
      ]
     },
     "execution_count": 55,
     "metadata": {},
     "output_type": "execute_result"
    }
   ],
   "source": [
    "LazyList=[n for n in range(10)]\n",
    "LazyList"
   ]
  },
  {
   "cell_type": "markdown",
   "metadata": {},
   "source": [
    "There are many built-in functions related to lists:"
   ]
  },
  {
   "cell_type": "code",
   "execution_count": 56,
   "metadata": {
    "collapsed": false
   },
   "outputs": [
    {
     "data": {
      "text/plain": [
       "42"
      ]
     },
     "execution_count": 56,
     "metadata": {},
     "output_type": "execute_result"
    }
   ],
   "source": [
    "max(ListOfNumbers)"
   ]
  },
  {
   "cell_type": "code",
   "execution_count": 57,
   "metadata": {
    "collapsed": false
   },
   "outputs": [
    {
     "data": {
      "text/plain": [
       "98.94"
      ]
     },
     "execution_count": 57,
     "metadata": {},
     "output_type": "execute_result"
    }
   ],
   "source": [
    "sum(ListOfNumbers)"
   ]
  },
  {
   "cell_type": "code",
   "execution_count": 58,
   "metadata": {
    "collapsed": false
   },
   "outputs": [
    {
     "name": "stdout",
     "output_type": "stream",
     "text": [
      "[-1.2, 1, 2, 3, 3.14, 4, 5, 6, 7, 8, 9, 10, 42]\n"
     ]
    }
   ],
   "source": [
    "print sorted(ListOfNumbers)"
   ]
  },
  {
   "cell_type": "code",
   "execution_count": 59,
   "metadata": {
    "collapsed": false
   },
   "outputs": [
    {
     "data": {
      "text/plain": [
       "3"
      ]
     },
     "execution_count": 59,
     "metadata": {},
     "output_type": "execute_result"
    }
   ],
   "source": [
    "len(HybridLizzzt)"
   ]
  },
  {
   "cell_type": "markdown",
   "metadata": {},
   "source": [
    "### Tuples\n",
    "\n",
    "Sometimes you want data that can't be altered, we call these unmutable data structures, and tuples are an example."
   ]
  },
  {
   "cell_type": "code",
   "execution_count": 60,
   "metadata": {
    "collapsed": true
   },
   "outputs": [],
   "source": [
    "HereTuple=(40.1098707,-88.2313086)"
   ]
  },
  {
   "cell_type": "markdown",
   "metadata": {},
   "source": [
    "Many things work for tuples like they do for lists:"
   ]
  },
  {
   "cell_type": "code",
   "execution_count": 61,
   "metadata": {
    "collapsed": false
   },
   "outputs": [
    {
     "data": {
      "text/plain": [
       "40.1098707"
      ]
     },
     "execution_count": 61,
     "metadata": {},
     "output_type": "execute_result"
    }
   ],
   "source": [
    "HereTuple[0]"
   ]
  },
  {
   "cell_type": "markdown",
   "metadata": {},
   "source": [
    "But some don't:"
   ]
  },
  {
   "cell_type": "code",
   "execution_count": 62,
   "metadata": {
    "collapsed": false
   },
   "outputs": [
    {
     "ename": "AttributeError",
     "evalue": "'tuple' object has no attribute 'append'",
     "output_type": "error",
     "traceback": [
      "\u001b[1;31m---------------------------------------------------------------------------\u001b[0m",
      "\u001b[1;31mAttributeError\u001b[0m                            Traceback (most recent call last)",
      "\u001b[1;32m<ipython-input-62-2bbcbd9e6ed2>\u001b[0m in \u001b[0;36m<module>\u001b[1;34m()\u001b[0m\n\u001b[1;32m----> 1\u001b[1;33m \u001b[0mHereTuple\u001b[0m\u001b[1;33m.\u001b[0m\u001b[0mappend\u001b[0m\u001b[1;33m(\u001b[0m\u001b[1;34m'Where?'\u001b[0m\u001b[1;33m)\u001b[0m\u001b[1;33m\u001b[0m\u001b[0m\n\u001b[0m",
      "\u001b[1;31mAttributeError\u001b[0m: 'tuple' object has no attribute 'append'"
     ]
    }
   ],
   "source": [
    "HereTuple.append('Where?')"
   ]
  },
  {
   "cell_type": "code",
   "execution_count": 63,
   "metadata": {
    "collapsed": false
   },
   "outputs": [
    {
     "data": {
      "text/plain": [
       "(40.1098707, -88.2313086, 40.1093463, -88.2292172)"
      ]
     },
     "execution_count": 63,
     "metadata": {},
     "output_type": "execute_result"
    }
   ],
   "source": [
    "ThereTuple=(40.1093463,-88.2292172)\n",
    "HereTuple + ThereTuple"
   ]
  },
  {
   "cell_type": "code",
   "execution_count": 64,
   "metadata": {
    "collapsed": false
   },
   "outputs": [
    {
     "name": "stdout",
     "output_type": "stream",
     "text": [
      "40.1098707\n",
      "-88.2313086\n"
     ]
    }
   ],
   "source": [
    "for coordinate in HereTuple:\n",
    "    print coordinate"
   ]
  },
  {
   "cell_type": "markdown",
   "metadata": {},
   "source": [
    "Something really useful about tuples is the following use of \"pattern-matching\":"
   ]
  },
  {
   "cell_type": "code",
   "execution_count": 65,
   "metadata": {
    "collapsed": false
   },
   "outputs": [
    {
     "name": "stdout",
     "output_type": "stream",
     "text": [
      "-88.2313086\n",
      "-88.2292172\n"
     ]
    }
   ],
   "source": [
    "# First, let's build a list of tuples\n",
    "coordinates=[(40.1098707,-88.2313086),(40.1093463,-88.2292172)]\n",
    "\n",
    "# Now let's do a little printing\n",
    "for (North,West) in coordinates:\n",
    "    print West"
   ]
  },
  {
   "cell_type": "markdown",
   "metadata": {},
   "source": [
    "Here's a clever use of this and the <mark>enumerate</mark> function:"
   ]
  },
  {
   "cell_type": "code",
   "execution_count": 67,
   "metadata": {
    "collapsed": false
   },
   "outputs": [
    {
     "name": "stdout",
     "output_type": "stream",
     "text": [
      "(0, 333)\n",
      "(1, 'What?')\n",
      "(2, 'Synthetics')\n"
     ]
    }
   ],
   "source": [
    "# First, let's see what enumerate does\n",
    "for x in enumerate(HybridLizzzt):\n",
    "    print x"
   ]
  },
  {
   "cell_type": "markdown",
   "metadata": {},
   "source": [
    "<mark>enumerate</mark> is a special type for iteration:"
   ]
  },
  {
   "cell_type": "code",
   "execution_count": 69,
   "metadata": {
    "collapsed": false
   },
   "outputs": [
    {
     "name": "stdout",
     "output_type": "stream",
     "text": [
      "<enumerate object at 0x7f9535f83870>\n"
     ]
    }
   ],
   "source": [
    "print enumerate(HybridLizzzt)"
   ]
  },
  {
   "cell_type": "code",
   "execution_count": 70,
   "metadata": {
    "collapsed": false
   },
   "outputs": [
    {
     "name": "stdout",
     "output_type": "stream",
     "text": [
      "The entry at position 0 of HybridLizzzt is: 333\n",
      "The entry at position 1 of HybridLizzzt is: What?\n",
      "The entry at position 2 of HybridLizzzt is: Synthetics\n"
     ]
    }
   ],
   "source": [
    "# Combining this with what we did before we can...\n",
    "for x, xn in enumerate(HybridLizzzt):\n",
    "    print \"The entry at position \" + str(x) + \" of HybridLizzzt is: \" + str(xn)"
   ]
  },
  {
   "cell_type": "markdown",
   "metadata": {},
   "source": [
    "### Dictionaries\n",
    "\n",
    "Basically a list \"augmented\" with \"look-up\" keys for the entries.\n",
    "\n",
    "The first entry is the look up key, the second is the element."
   ]
  },
  {
   "cell_type": "code",
   "execution_count": 71,
   "metadata": {
    "collapsed": true
   },
   "outputs": [],
   "source": [
    "CoolAIs={'Coolest': 'Neuromancer', 'Evilest':'Hal 9000','MostRelentless':'T-1000','Cutest':'Wall-E'}"
   ]
  },
  {
   "cell_type": "code",
   "execution_count": 72,
   "metadata": {
    "collapsed": false
   },
   "outputs": [
    {
     "data": {
      "text/plain": [
       "{'Coolest': 'Neuromancer',\n",
       " 'Cutest': 'Wall-E',\n",
       " 'Evilest': 'Hal 9000',\n",
       " 'MostRelentless': 'T-1000'}"
      ]
     },
     "execution_count": 72,
     "metadata": {},
     "output_type": "execute_result"
    }
   ],
   "source": [
    "CoolAIs"
   ]
  },
  {
   "cell_type": "code",
   "execution_count": 73,
   "metadata": {
    "collapsed": false
   },
   "outputs": [
    {
     "data": {
      "text/plain": [
       "'Hal 9000'"
      ]
     },
     "execution_count": 73,
     "metadata": {},
     "output_type": "execute_result"
    }
   ],
   "source": [
    "CoolAIs['Evilest']"
   ]
  },
  {
   "cell_type": "code",
   "execution_count": 74,
   "metadata": {
    "collapsed": false
   },
   "outputs": [
    {
     "data": {
      "text/plain": [
       "{'Coolest': 'Neuromancer', 'Evilest': 'Hal 9000', 'MostRelentless': 'T-1000'}"
      ]
     },
     "execution_count": 74,
     "metadata": {},
     "output_type": "execute_result"
    }
   ],
   "source": [
    "del CoolAIs['Cutest']\n",
    "CoolAIs"
   ]
  },
  {
   "cell_type": "code",
   "execution_count": 75,
   "metadata": {
    "collapsed": false
   },
   "outputs": [
    {
     "data": {
      "text/plain": [
       "{'Coolest': 'Neuromancer',\n",
       " 'Cutest': 'Wall-E',\n",
       " 'Evilest': 'Hal 9000',\n",
       " 'MostRelentless': 'T-1000'}"
      ]
     },
     "execution_count": 75,
     "metadata": {},
     "output_type": "execute_result"
    }
   ],
   "source": [
    "CoolAIs['Cutest']='Wall-E'\n",
    "CoolAIs"
   ]
  },
  {
   "cell_type": "code",
   "execution_count": 79,
   "metadata": {
    "collapsed": false
   },
   "outputs": [
    {
     "data": {
      "text/plain": [
       "{'Coolest': 'Neuromancer',\n",
       " 'Cutest': 'Wall-E',\n",
       " 'Evilest': 'Hal 9000',\n",
       " 'MostRelentless': 'T-800'}"
      ]
     },
     "execution_count": 79,
     "metadata": {},
     "output_type": "execute_result"
    }
   ],
   "source": [
    "CoolAIs['MostRelentless']='T-800'\n",
    "CoolAIs"
   ]
  },
  {
   "cell_type": "code",
   "execution_count": 81,
   "metadata": {
    "collapsed": false
   },
   "outputs": [
    {
     "name": "stdout",
     "output_type": "stream",
     "text": [
      "Of course, organic...T-800 is in the list\n"
     ]
    }
   ],
   "source": [
    "if 'MostRelentless' in CoolAIs:\n",
    "    print 'Of course, organic...' + str(CoolAIs['MostRelentless']) + \" is in the list\""
   ]
  },
  {
   "cell_type": "markdown",
   "metadata": {},
   "source": [
    "### Sets\n",
    "\n",
    "Almost literally like the mathematical concept of a set, repetition is ignored and there is no order (sorta)."
   ]
  },
  {
   "cell_type": "code",
   "execution_count": 82,
   "metadata": {
    "collapsed": false
   },
   "outputs": [
    {
     "data": {
      "text/plain": [
       "{3, 4, 7, 56, 'hi'}"
      ]
     },
     "execution_count": 82,
     "metadata": {},
     "output_type": "execute_result"
    }
   ],
   "source": [
    "aSet=set([3,4,3,56,'hi',7,4,4,4,4,4])\n",
    "aSet"
   ]
  },
  {
   "cell_type": "code",
   "execution_count": 83,
   "metadata": {
    "collapsed": false
   },
   "outputs": [
    {
     "ename": "TypeError",
     "evalue": "'set' object does not support indexing",
     "output_type": "error",
     "traceback": [
      "\u001b[1;31m---------------------------------------------------------------------------\u001b[0m",
      "\u001b[1;31mTypeError\u001b[0m                                 Traceback (most recent call last)",
      "\u001b[1;32m<ipython-input-83-e8335fd93425>\u001b[0m in \u001b[0;36m<module>\u001b[1;34m()\u001b[0m\n\u001b[1;32m----> 1\u001b[1;33m \u001b[0maSet\u001b[0m\u001b[1;33m[\u001b[0m\u001b[1;36m0\u001b[0m\u001b[1;33m]\u001b[0m\u001b[1;33m\u001b[0m\u001b[0m\n\u001b[0m",
      "\u001b[1;31mTypeError\u001b[0m: 'set' object does not support indexing"
     ]
    }
   ],
   "source": [
    "aSet[0]"
   ]
  },
  {
   "cell_type": "code",
   "execution_count": 84,
   "metadata": {
    "collapsed": false
   },
   "outputs": [
    {
     "name": "stdout",
     "output_type": "stream",
     "text": [
      "56\n",
      "hi\n",
      "3\n",
      "4\n",
      "7\n"
     ]
    }
   ],
   "source": [
    "for k in aSet:\n",
    "    print k"
   ]
  },
  {
   "cell_type": "code",
   "execution_count": 85,
   "metadata": {
    "collapsed": false
   },
   "outputs": [
    {
     "data": {
      "text/plain": [
       "{3, 4, 7, 56, 'hi', 'no'}"
      ]
     },
     "execution_count": 85,
     "metadata": {},
     "output_type": "execute_result"
    }
   ],
   "source": [
    "aSet.add('no')\n",
    "aSet"
   ]
  },
  {
   "cell_type": "code",
   "execution_count": 86,
   "metadata": {
    "collapsed": false
   },
   "outputs": [
    {
     "data": {
      "text/plain": [
       "{3, 4, 7, 'hi', 'no'}"
      ]
     },
     "execution_count": 86,
     "metadata": {},
     "output_type": "execute_result"
    }
   ],
   "source": [
    "aSet.remove(56)\n",
    "aSet"
   ]
  },
  {
   "cell_type": "markdown",
   "metadata": {},
   "source": [
    "We can do standard set theory stuff with these sets:"
   ]
  },
  {
   "cell_type": "code",
   "execution_count": 87,
   "metadata": {
    "collapsed": false
   },
   "outputs": [
    {
     "name": "stdout",
     "output_type": "stream",
     "text": [
      "set([8, 2, 4, 6])\n",
      "set([1, 2, 3, 4, 5, 6, 7, 8, 10, 12, 14])\n",
      "set([1, 3, 5, 7])\n",
      "set([8, 2, 4, 6])\n",
      "False\n",
      "True\n",
      "True\n"
     ]
    }
   ],
   "source": [
    "A=set([1,2,3,4,5,6,7,8])\n",
    "B=set([2,4,6,8,10,12,14])\n",
    "C=set([1,2,3,4,5,6,7,8,9])\n",
    "\n",
    "print A & B\n",
    "print A | B\n",
    "print A - B\n",
    "print A.intersection(B)\n",
    "\n",
    "print A < B\n",
    "print A < C\n",
    "print A <= C"
   ]
  },
  {
   "cell_type": "markdown",
   "metadata": {
    "collapsed": true
   },
   "source": [
    "#### Exercises\n",
    "\n",
    "1. Write a function that tells you whether a letter is a vowel or not.\n",
    "\n",
    "1. Write a function to find the largest number in a list.\n",
    "\n",
    "1. Write a function to clone a list.\n",
    "\n",
    "1. Write a function that \"flattens\" a list. (Warning: A list within a list may contain more lists!)\n",
    "\n",
    "1. Write a function that will \"add\" an entry to a tuple."
   ]
  },
  {
   "cell_type": "markdown",
   "metadata": {},
   "source": [
    "#### Exercise\n",
    "\n",
    "You can encode a graph using a dictionary. The keys are vertices and the values are other vertices for which there exists and edge from the key to that vertex.\n",
    "\n",
    "1. Write a script that counts the order of the graph (the number of vertices) and the size of the graph (the number of edges it has).\n",
    "\n",
    "1. Write a script that returns the degree of a given vertex (the number of edges connecting to the given vertex).\n",
    "\n",
    "1. (Challenge) Write a script that returns a list of vertices that can be reached from a given vertex."
   ]
  },
  {
   "cell_type": "markdown",
   "metadata": {},
   "source": [
    "#### Exercise\n",
    "\n",
    "Consider a function $f:\\mathbb{R}\\rightarrow\\mathbb{R}$ like the one defined by:\n",
    "$$f(x):=x^3$$\n",
    "\n",
    "We can iterate this function to obtain a **discrete dynamical system**. In this context, we usually refer to $f$ as a **map**. For example, we can pick a starting number like $x_0=1/2$ and evaluate $f$ at $x_0=1/2$.  We obtain:\n",
    "\n",
    "$$x_1=f(1/2)=1/8=0.125$$\n",
    "\n",
    "We then take this output and treat it as an input for $f$ again:\n",
    "\n",
    "$$x_2=f^2(1/2)=f(1/8)=1/512\\approx0.001953$$\n",
    "\n",
    "We can keep going, and obtain a sequence:\n",
    "\n",
    "$$x_0=0.5,\\, x_1=f(1/2)=0.125,\\, x_2=f^2(1/2)\\approx 0.001953,\\, ....,\\, x_n=f^n(1/2),\\,...$$\n",
    "\n",
    "We call this the **orbit** $O(x_0)$ for the **initial point** $x_0=1/2$.\n",
    "\n",
    "1. Write a function that takes an initial condition and a number of iterations and outputs the orbit as a tuple.\n",
    "\n",
    "1. A discrete dynamical system given by a map $f$ has a **fixed point** at a value $p$ if $f(p)=p$. Solve $f(x)=x$ by hand to find the fixed points of $x$ and verify these using your code.\n",
    "\n",
    "1. Use the function you wrote to explore the behavior for different initial conditions around the fixed points of $f$. What can you say about the orbits?\n",
    "\n",
    "1. We say a fixed point is **stable** if orbits starting at nearby points, stay nearby. We say it is **unstable** otherwise. Use your code to conjecture whether the fixed points you found are stable or not."
   ]
  },
  {
   "cell_type": "markdown",
   "metadata": {},
   "source": [
    "#### Exercise\n",
    "\n",
    "Let $k$ be a positive integer and let $f$ be a function. \n",
    "\n",
    "A **k-periodic point** of the function $f$ is a point $p$ such that $f^k(p)=p$ and $f^j(p)\\not=p$ for all nonnegative integers $j$ less than $k$. \n",
    "\n",
    "An **eventually k-periodic point** of the function $f$ is a point $p$ such that it's orbit $O(p)$ eventually lands in a k-periodic point. \n",
    "\n",
    "Consider the function:\n",
    "$$\n",
    "g(x)=3.3x(1-x)\n",
    "$$\n",
    "\n",
    "1. Modify the function you wrote to provide evidence that $0.4794$ is a $2$-periodic point.\n",
    "\n",
    "1. Explore the orbits of $0.2$, $0.5$, and $0.95$ to oberve whether they are eventually periodic.\n",
    "\n",
    "1. Systematically explore initial conditions to conjecture what values are eventually periodic."
   ]
  },
  {
   "cell_type": "markdown",
   "metadata": {},
   "source": [
    "#### Exercise"
   ]
  },
  {
   "cell_type": "markdown",
   "metadata": {},
   "source": [
    "Explore initial conditions for the function $h(x)=3.5x(1-x)$ to find if there are any eventually periodic points."
   ]
  },
  {
   "cell_type": "code",
   "execution_count": null,
   "metadata": {
    "collapsed": true
   },
   "outputs": [],
   "source": []
  }
 ],
 "metadata": {
  "kernelspec": {
   "display_name": "Python 2",
   "language": "python",
   "name": "python2"
  },
  "language_info": {
   "codemirror_mode": {
    "name": "ipython",
    "version": 2
   },
   "file_extension": ".py",
   "mimetype": "text/x-python",
   "name": "python",
   "nbconvert_exporter": "python",
   "pygments_lexer": "ipython2",
   "version": "2.7.13"
  }
 },
 "nbformat": 4,
 "nbformat_minor": 0
}
