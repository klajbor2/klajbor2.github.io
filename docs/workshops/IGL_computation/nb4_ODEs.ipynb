{
 "cells": [
  {
   "cell_type": "markdown",
   "metadata": {},
   "source": [
    "# Solving Ordinary Differential Equations Numerically with Python"
   ]
  },
  {
   "cell_type": "markdown",
   "metadata": {},
   "source": [
    "Ordinary differential equations are equations where the unknown is a function and the equations involve the derivatives of that unknown function with respect to a single independent variable.\n",
    "\n",
    "Here we'll denote the unknown function by $y$, and the independent variable by $t$ (since we often think of this variable as time).\n",
    "\n",
    "For example, you may have seen something like the following differential equation:\n",
    "$$\n",
    "\\frac{dy}{dt}=2y\n",
    "$$\n",
    "You can check that, for any constant $C$, the function:\n",
    "$$\n",
    "y(t)=Ce^{2t}\n",
    "$$\n",
    "is a solution.\n",
    "\n",
    "You can verify this by taking derivatives and checking that the equation holds:\n",
    "$$\n",
    "\\frac{d}{dt}y(t)=\\frac{d}{dt}\\left(Ce^{2t}\\right)=2Ce^{2t}=2y(t)\n",
    "$$\n",
    "\n",
    "By imposing an initial condition at time $t=0$, we can specify a particular solution. For example, if we require $y(0)=5$, we see that:\n",
    "$$\n",
    "5=y(0)=2Ce^{2(0)}=2C\n",
    "$$\n",
    "and hence $C=5/2$. Thus, we obtain the particular, solution:\n",
    "$$\n",
    "y(t)=2(5/2)e^{2t}=5e^{2t}.\n",
    "$$\n",
    "\n",
    "First, we will focus on first order differential equations of the form:\n",
    "$$\n",
    "y'=f(t,y)\n",
    "$$\n",
    "So in the above example, $f(t,y)=2y$.\n",
    "\n",
    "Notice that a solution $y(t)$ is then a function such that:\n",
    "$$\n",
    "y'(t)=f\\big(t,y(t)\\big)\n",
    "$$\n",
    "is a true equation.\n",
    "\n",
    "When we impose an initial condition we often call the pair of an equation and initial condition as an *initial value problem* and write:\n",
    "$$\n",
    "\\begin{cases}\n",
    "y'=f(t,y) \\\\\n",
    "y(0)=y_0\n",
    "\\end{cases}\n",
    "$$\n",
    "where $y_0$ is some initial value.\n",
    "\n",
    "Most ordinary differential equations, don't have explicit solutions. Nevertheless, solutions are guaranteed to exist for most such equations. Therefore, it is of interest to solve these numerically to use these in applications, understand their qualitative behavior, and conjecture statements that can later be rigorously proven.\n",
    "\n",
    "Below you will implement some of the basic algorithms to solve ordinary differential equations.\n",
    "\n",
    "Some more sophisticated methods have been developed, and these can be found in Scipy. Thus, you'll also learn how to use these built-in methods and how to choose between them."
   ]
  },
  {
   "cell_type": "markdown",
   "metadata": {},
   "source": [
    "## Euler Method\n",
    "\n",
    "Given a differential equation of the form $y'=f(t,y)$, most methods of solution begin by partitioning an interval of interest, say $[0,1]$ into pieces:\n",
    "$$\n",
    "0=t_0<t_1<...<t_n=1\n",
    "$$\n",
    "\n",
    "The end-product of the algorithm will be a list of values:\n",
    "$$\n",
    "y_0:=y(t_0)\\,,\\,y_1:=y(t_1)\\,,\\,...\\,,\\,y_n:=y(t_n)\n",
    "$$\n",
    "approximating the solution at those partition points.\n",
    "\n",
    "One of the simplest methods, is the *Euler method*. Intuitively, you can think of this method as approximating the solution by following the linear approximation's graph at each point starting from the initial condition.\n",
    "\n",
    "The idea is to approximate the derivative using the forward difference:\n",
    "$$\n",
    "f(t_n,y_n)\\approx\\frac{y_{n+1}-y_{n}}{t_{n+1}-t_n}\n",
    "$$\n",
    "which provides the following scheme:\n",
    "$$\n",
    "y_{n+1}=y_n+f(t_n,y_n)(t_{n+1}-t_n)\n",
    "$$\n",
    "\n",
    "To simplify things, one can consider the case when the distance between the time steps is a constant $h$ (more sophisticated methods vary the step size as the algorithm proceeds). In such a case, the above scheme becomes:\n",
    "$$\n",
    "y_{n+1}=y_n+f(t_n,y_n)h\n",
    "$$\n",
    "\n",
    "The Euler method consists of computing $y_{n+1}$ using the above scheme, starting from the initial condition $y_0$."
   ]
  },
  {
   "cell_type": "markdown",
   "metadata": {},
   "source": [
    "#### Exercise\n",
    "\n",
    "Write a function implementing the Euler method, taking as arguments the function $f(t,y)$ and an initial condition."
   ]
  },
  {
   "cell_type": "markdown",
   "metadata": {},
   "source": [
    "#### Exercise\n",
    "\n",
    "Test the Euler Method on the following functions, with the specified step size $h$:\n",
    "1. $y'=3+t-y\\qquad\\qquad y(0)=1 \\qquad\\qquad 0\\le t \\le 1 \\qquad\\qquad h=0.05,\\, 0.025$\n",
    "1. $y'=2t+e^{-ty}\\qquad\\qquad y(0)=1 \\qquad\\qquad 0\\le t \\le 1 \\qquad\\qquad h=0.05,\\, 0.025$\n",
    "\n",
    "Plot the approximate solutions."
   ]
  },
  {
   "cell_type": "markdown",
   "metadata": {},
   "source": [
    "#### Exercise\n",
    "\n",
    "Plot your solution for the problem:\n",
    "$$\n",
    "y'=1-t+4y\n",
    "\\qquad\\qquad\n",
    "y(0)=1\n",
    "\\qquad\\qquad\n",
    "0\\le t \\le 1\n",
    "\\qquad\\qquad\n",
    "h=0.05,\\,0.025,\\,0.01\n",
    "$$\n",
    "together with the exact solution:\n",
    "$$\n",
    "y(t)=\\frac{1}{4}t-\\frac{3}{16}+\\frac{19}{16}e^{4t}\n",
    "$$\n",
    "\n",
    "Make another plot of the error at each time step as compared with the exact solution."
   ]
  },
  {
   "cell_type": "markdown",
   "metadata": {},
   "source": [
    "#### Exercise\n",
    "\n",
    "A slight variation of the Euler method involves using backwards differences to obtain the implicit scheme:\n",
    "$$\n",
    "y_{n+1}-y_n=hf(t_{n+1},y_{n+1})\n",
    "$$\n",
    "Note that this doesn't give $y_{n+1}$ explicitly in terms of data already known. Hence, this equation must be solved for $y_{n+1}$ before being implemented.\n",
    "\n",
    "Implement this scheme as a Python function that takes initial conditions as arguments for the differential equation:\n",
    "\n",
    "Begin by solving $y_{n+1}-y_n=hf(t_{n+1},y_{n+1})$ by hand.\n",
    "\n",
    "Implement this scheme as a Python function that takes initial conditions and the function $f(t,y)$ as arguments. At each step of the iteration, you will need to use a solver from the *Day 2 solving equations* notes, within your function to solve the equation $y_{n+1}-y_n=hf(t_{n+1},y_{n+1})$ for $y_{n+1}$ using the values of $y_{n}$ and $t_{n+1}$.\n",
    "\n",
    "Compare this implementation by testing it on the result you got for the previous exercise."
   ]
  },
  {
   "cell_type": "markdown",
   "metadata": {},
   "source": [
    "## Improved Euler Method\n",
    "\n",
    "The Improved Euler Method or Heun's method consists of another step in the iterations used in the Euler Method. Instead of defining $y_{n+1}$ by the formula:\n",
    "$$\n",
    "y_{n+1}=y_n+hf(t_n,y_n)\n",
    "$$\n",
    "we use two steps:\n",
    "\n",
    "1. Compute $z_{n+1}=y_n+hf(t_n,y_n)$\n",
    "2. Compute $y_{n+1}=y_n+\\frac{h}{2} \\Big(f(t_n,y_n)+f(t_n+h,z_{n+1})\\Big)$"
   ]
  },
  {
   "cell_type": "markdown",
   "metadata": {},
   "source": [
    "#### Exercise\n",
    "\n",
    "Write a function implementing the Improved Euler Method taking initial conditions and the function $f(t,y)$ as arguments."
   ]
  },
  {
   "cell_type": "markdown",
   "metadata": {},
   "source": [
    "#### Exercise\n",
    "\n",
    "Test your code for the Improved Euler Method against the equations:\n",
    "1. $y'=3+t-y\\qquad\\qquad y(0)=1 \\qquad\\qquad 0\\le t \\le 1 \\qquad\\qquad h=0.05,\\, 0.025$\n",
    "1. $y'=2t+e^{-ty}\\qquad\\qquad y(0)=1 \\qquad\\qquad 0\\le t \\le 1 \\qquad\\qquad h=0.05,\\, 0.025$\n",
    "\n",
    "Plot your results against the Euler Method."
   ]
  },
  {
   "cell_type": "markdown",
   "metadata": {},
   "source": [
    "#### Exercise \n",
    "\n",
    "Consider the differential equation Plot your solution for the problem:\n",
    "$$\n",
    "y'=1-t+4y\n",
    "\\qquad\\qquad\n",
    "y(0)=1\n",
    "\\qquad\\qquad\n",
    "0\\le t \\le 1\n",
    "\\qquad\\qquad\n",
    "h=0.05,\\,0.025,\\,0.01\n",
    "$$\n",
    "which has the exact solution:\n",
    "$$\n",
    "y(t)=\\frac{1}{4}t-\\frac{3}{16}+\\frac{19}{16}e^{4t}\n",
    "$$\n",
    "\n",
    "Plot the solution for this problem obtained from your Improved Euler Method code together with the exact solution.\n",
    "\n",
    "Compute and plot the error in the numerical computation. Compare with the regular Euler method."
   ]
  },
  {
   "cell_type": "markdown",
   "metadata": {},
   "source": [
    "## Runge-Kutta\n",
    "\n",
    "All of the above schemes are considered part of the Runga-Kuta class of methods, but there's one method in particular that is called *the* Runga-Kutta method. \n",
    "\n",
    "The method consists of performing the following computations at each step:\n",
    "$$\n",
    "\\begin{align}\n",
    "z_{n1}&=f(t_n,y_n) \\\\\n",
    "z_{n2}&=f\\left(t_n+\\frac{h}{2},y_n+\\frac{h}{2}z_{n1}\\right)\\\\\n",
    "z_{n3}&=f\\left(t_n+\\frac{h}{2},y_n+\\frac{h}{2}z_{n2}\\right)\\\\\n",
    "z_{n4}&=f\\left(t_n+h,y_n+hz_{n3}\\right)\\\\\n",
    "y_{n+1}&=y_n+\\frac{h}{6}\\Big(z_{n1}+2z_{n2}+2z_{n3}+z_{n4}\\Big)\n",
    "\\end{align}\n",
    "$$"
   ]
  },
  {
   "cell_type": "markdown",
   "metadata": {},
   "source": [
    "#### Exercise\n",
    "\n",
    "Write a function implementing the Runge-Kutta method that takes as argument the initial condition and the function $f(t,y)$."
   ]
  },
  {
   "cell_type": "markdown",
   "metadata": {},
   "source": [
    "#### Exercise\n",
    "\n",
    "Test your code for the Runge-Kutta Method against the equations:\n",
    "1. $y'=3+t-y\\qquad\\qquad y(0)=1 \\qquad\\qquad 0\\le t \\le 1 \\qquad\\qquad h=0.1,\\,0.05,\\, 0.025$\n",
    "1. $y'=2t+e^{-ty}\\qquad\\qquad y(0)=1 \\qquad\\qquad 0\\le t \\le 1 \\qquad\\qquad h=0.1,\\,0.05,\\, 0.025$\n",
    "\n",
    "Plot your results against the Euler Method and the Improved Euler Method."
   ]
  },
  {
   "cell_type": "markdown",
   "metadata": {},
   "source": [
    "## Scipy's Solvers\n",
    "\n",
    "Scipy built-in integrators to numerically approximate the solutions of an initial value problem.\n",
    "\n",
    "In the methods discussed above, the step size $h$ was fixed. However, based on estimates for the numerical errors in these schemes, the step size can be varied dynamically as the algorithm steps through the interval partition. A detailed description of this is beyond the scope of this workshop. That being said, it is important to keep in mind that many of the built-in solvers in Scipy have this implemented by default.\n",
    "\n",
    "Another feature the methods discussed before have in common, is that at the $n^{th}$ step all these methods use only the data from the $(n-1)^{th}$ step. Thus, they are called *single-step methods*. Most built-in solvers default to the [**Adams method**](https://en.wikipedia.org/wiki/Linear_multistep_method#Adams.E2.80.93Bashforth_methods) or the [**backwards differentiation method**](https://en.wikipedia.org/wiki/Backward_differentiation_formula), which are multi-step methods meaning they use more data than just the data of the previous step.\n",
    "\n",
    "We will only discuss the <mark>odeint</mark> integrator in the scipy.integrate library, but there is another option in the scipy.integrate library called <mark>ode</mark> with a few more options."
   ]
  },
  {
   "cell_type": "markdown",
   "metadata": {},
   "source": [
    "For this, we will need to import the following:"
   ]
  },
  {
   "cell_type": "code",
   "execution_count": 1,
   "metadata": {
    "collapsed": true
   },
   "outputs": [],
   "source": [
    "import numpy as np\n",
    "import scipy.integrate as spi"
   ]
  },
  {
   "cell_type": "markdown",
   "metadata": {},
   "source": [
    "To plot solutions let's import the following:"
   ]
  },
  {
   "cell_type": "code",
   "execution_count": 2,
   "metadata": {
    "collapsed": true
   },
   "outputs": [],
   "source": [
    "import numpy as np\n",
    "import matplotlib.pyplot as plt\n",
    "%matplotlib inline"
   ]
  },
  {
   "cell_type": "markdown",
   "metadata": {},
   "source": [
    "### The odeint solver\n",
    "\n",
    "The scipy.integrate function <mark>odeint</mark> solves an ODE of the form:\n",
    "$$\n",
    "y'=f(t,y)\n",
    "$$\n",
    "over a given interval. The first argument is the function $f(t,y)$, the second argument is the initial condition, the third argument is the interval."
   ]
  },
  {
   "cell_type": "markdown",
   "metadata": {},
   "source": [
    "Here is an example solving the initial value problem:\n",
    "$$\n",
    "\\begin{cases}\n",
    "y'=3-2t-0.5y\\\\\n",
    "y(0)=1\n",
    "\\end{cases}\n",
    "$$\n",
    "over the interval $[0,1]$."
   ]
  },
  {
   "cell_type": "code",
   "execution_count": 3,
   "metadata": {
    "collapsed": false
   },
   "outputs": [
    {
     "name": "stdout",
     "output_type": "stream",
     "text": [
      "[[ 1.        ]\n",
      " [ 1.00250087]\n",
      " [ 1.00499849]\n",
      " [ 1.00749286]\n",
      " [ 1.00998398]]\n"
     ]
    }
   ],
   "source": [
    "equation = lambda y, t : 3.-2.*t-0.5*y\n",
    "\n",
    "I = np.linspace(0,1,1000)\n",
    "\n",
    "sol = spi.odeint(equation,[1],I)\n",
    "\n",
    "print sol[0:5] #print the first few entries of sol so to see format"
   ]
  },
  {
   "cell_type": "code",
   "execution_count": 4,
   "metadata": {
    "collapsed": false
   },
   "outputs": [
    {
     "data": {
      "text/plain": [
       "array([ 1.])"
      ]
     },
     "execution_count": 4,
     "metadata": {},
     "output_type": "execute_result"
    }
   ],
   "source": [
    "sol[0]"
   ]
  },
  {
   "cell_type": "markdown",
   "metadata": {},
   "source": [
    "The initial value problem has the exact solution:\n",
    "$$\n",
    "y(t)=14-4t-13\\exp(-t/2)\n",
    "$$\n",
    "Let's plot the numerical solution against this solution."
   ]
  },
  {
   "cell_type": "code",
   "execution_count": 5,
   "metadata": {
    "collapsed": false
   },
   "outputs": [
    {
     "data": {
      "image/png": "[encoded data removed]",
      "text/plain": [
       "<matplotlib.figure.Figure at 0x7f4c87615590>"
      ]
     },
     "metadata": {},
     "output_type": "display_data"
    }
   ],
   "source": [
    "plt.figure()\n",
    "plt.plot(I,sol,color='b')\n",
    "plt.plot(I,14.-4.*I-13.*np.exp(-I/2.),color='r')\n",
    "plt.show()"
   ]
  },
  {
   "cell_type": "markdown",
   "metadata": {},
   "source": [
    "The solution and its approximation are almost indistinguishable graphically, but there is an error."
   ]
  },
  {
   "cell_type": "markdown",
   "metadata": {},
   "source": [
    "This error is fine for many purposes, but proper adjustments can reduce it to a more tolerable level."
   ]
  },
  {
   "cell_type": "markdown",
   "metadata": {},
   "source": [
    "The <mark>odeint</mark> solver automatically selects between the [**Adams method**](https://en.wikipedia.org/wiki/Linear_multistep_method#Adams.E2.80.93Bashforth_methods) and the [**backwards differentiation method**](https://en.wikipedia.org/wiki/Backward_differentiation_formula) mentioned before. One of the main considerations it takes is dealing with the issue of [**stiffness**](https://en.wikipedia.org/wiki/Stiff_equation) in a differential equation."
   ]
  },
  {
   "cell_type": "markdown",
   "metadata": {},
   "source": [
    "The scipy.integrate solver <mark>ode</mark> is another solver in Scipy, which has several numerical schemes to choose from.\n",
    "\n",
    "The syntax is a little bit different to <mark>odeint</mark>.\n",
    "\n",
    "Here the first argument is the function and the second (optional) argument is the Jacobian of the function.\n",
    "\n",
    "One uses the method <mark>set_integrator</mark> to choose between the available integrators. The different integrators are:\n",
    "* vode : Adams and BDF methods\n",
    "* zvode : Adams and BDF methods with complex variable support\n",
    "* lsoda : Adams and BDF methods (same as odeint)\n",
    "* dopri5 : Runge-Kutta of order (4)5\n",
    "* dop853 : Runge-Kutta of order 8(5,3)\n",
    "\n",
    "The order of the Runge-Kutta schemes corresponds to the order of the error in terms of the step size and the stages of computation between steps.\n",
    "\n",
    "For more on this integrator see [**here**](https://docs.scipy.org/doc/scipy-0.14.0/reference/generated/scipy.integrate.ode.html#hnw93). This one is a bit trickier to use."
   ]
  },
  {
   "cell_type": "markdown",
   "metadata": {},
   "source": [
    "## Systems of First Order Equations\n",
    "\n",
    "All of the above methods apply to systems of first order differential equations of the form:\n",
    "$$\n",
    "\\begin{cases}\n",
    "y_1'=f_1(t,y_1,...,y_n) \\\\\n",
    "y_2'=f_2(t,y_1,...,y_n) \\\\\n",
    "... \\\\\n",
    "y_n'=f_n(t,y_1,...,y_n)\n",
    "\\end{cases}\n",
    "$$\n",
    "\n",
    "which we can write as:\n",
    "$$\n",
    "y'=F(t,y)\n",
    "$$\n",
    "where $y=(y_1,...,y_n)$ and $F(t,y)=\\big(f_1(t,y),...,f_n(t,y)\\big)$.\n",
    "\n",
    "An initial value problem is then of the form:\n",
    "$$\n",
    "\\begin{cases}\n",
    "y'=F(t,y) \\\\\n",
    "y(0)=y_0\n",
    "\\end{cases}\n",
    "$$\n",
    "where $y_0$ is a given vector thought of as an initial condition.\n",
    "\n",
    "The methods discussed thus far all apply to systems of differential equations by applying them component-wise."
   ]
  },
  {
   "cell_type": "markdown",
   "metadata": {},
   "source": [
    "#### Exercise\n",
    "\n",
    "Modify your code for the Euler Method and Runge-Kutta Method to work with systems of first order equations.\n",
    "\n",
    "Test these with the following system of equations: \n",
    "$$x'=x+y-t\\qquad\\qquad y'=4x-2y\\qquad\\qquad (x(0),y(0))=(1,0)$$\n",
    "\n",
    "where you compare Euler method with $h=0.05$ and Runge-Kutta with $h=0.2$."
   ]
  },
  {
   "cell_type": "markdown",
   "metadata": {},
   "source": [
    "#### Exercise\n",
    "\n",
    "For a sysem of first order differential equations of the form $z'=F(z)$, where $z=(z_1,...,z_n)$, we can think of the right hand side as a vector field on $\\mathbb{R}^n$.\n",
    "\n",
    "The solution to the initial value problem:\n",
    "$$\n",
    "\\begin{cases}\n",
    "z'=F(z) \\\\\n",
    "z(0)=z_0\n",
    "\\end{cases}\n",
    "$$\n",
    "where $z_0$ is some given point in $\\mathbb{R}^n$ is a curve $z(t)$ starting at the point $z_0$. At each point on the curve, its velocity is given by the vector field at that point. We call such a solution an integral curve when we think of it in this manner.\n",
    "\n",
    "Consider the system in $\\mathbb{R}^2$ given by \n",
    "$$\n",
    "\\begin{cases}\n",
    "x'=y\\\\\n",
    "y'=x-x^3\n",
    "\\end{cases}\n",
    "$$\n",
    "Here the vector field is $F(x,y)=(y,x-x^3)$.\n",
    "\n",
    "A fixed point of this system is a pair $(x_p,y_p)\\in\\mathbb{R}^2$ such that $F(x_p,y_p)=(0,0)$.\n",
    "\n",
    "1. Mathematically solve for the fixed points by simulatenously solving the equations:\n",
    "$$\n",
    "\\begin{cases}\n",
    "y=0\\\\\n",
    "x-x^3=0\n",
    "\\end{cases}\n",
    "$$\n",
    "2. Solve the system numerically for any given initial condition and verify that the function:\n",
    "$\n",
    "E(x,y)=\\frac{y^2}{2}-\\frac{x^2}{2}+\\frac{x^4}{4}\n",
    "$\n",
    "is constant along these curves. That is, if $(x(t),y(t))$ is a solution, check and plot the values $E(x(t),y(t))$ on your solution.\n",
    "2. Plot the vector field $F(x,y)$, by following the plotting notes from Day 1, in such a way that the fixed points are in your view window.\n",
    "3. Plot several integral curves by solving the system numerically for differential initial conditions. The curves should close up. You want to capture integral curves around each fixed point, so pick initial conditions near each. What you are plotting here is what's often referred to as a *phase portrait* of the system.\n",
    "4. Roughly speaking, a fixed point is stable if nearby integral curves stay nearby. Roughly speaking, it is unstable if there are always nearby integral curves that don't stay near it. Using your picture, can you conjecture whether each of the system's fixed points are stable or unstable?\n",
    "5. In this example, the trajectories are also obtained by looking at the level curves of the function:\n",
    "$$\n",
    "E(x,y)=\\frac{y^2}{2}-\\frac{x^2}{2}+\\frac{x^4}{4}\n",
    "$$\n",
    "On a separate plot, plot the level curves of this function by using the contour plotting tools from Day 1.\n",
    "\n",
    "NOTE: There are fancier ways of building the phase portraits instead of plotting a bunch of integral curves. For example, by using [**this**](https://matplotlib.org/devdocs/gallery/images_contours_and_fields/plot_streamplot.html). However, this exercise gives you practice using these tools and helps you appreciate what's going on \"under the hood\" when we solve systems of ordinary differential equations and interpret them this way."
   ]
  },
  {
   "cell_type": "markdown",
   "metadata": {},
   "source": [
    "#### Exercise\n",
    "\n",
    "Consider the system of equations:\n",
    "$$\n",
    "\\begin{cases}\n",
    "x'=\\mu x -x^3 \\\\\n",
    "y'=-y\n",
    "\\end{cases}\n",
    "$$\n",
    "where $\\mu$ is a real number that you should think of as a parameter. That is, fixing a value of $\\mu$ you obtain a system of first-order differential equations on $\\mathbb{R}^2$. Equivalently, for every $\\mu$, there's a vector field on $\\mathbb{R}^2$ by thinking of the right hand side as a function. The vector field is:\n",
    "$$\n",
    "F_\\mu(x,y)=\\Big(\\mu x-x^3,-y\\Big)\n",
    "$$\n",
    "\n",
    "As we vary the parameter $\\mu$ from negative to positive numbers, the phase portrait changes topologically. That is, the number of fixed points varies and the behavior of the integral curves changes. This is called a bifurcation, and this particular instance of it is called a *pitchfork bifurcation*.\n",
    "\n",
    "1. Mathematically solve for the fixed points of $F_\\mu(x,y)$ in terms of $\\mu$. \n",
    "1. Create a function, taking as argument the parameter $\\mu$, that plots the phase portrait around the fixed points.\n",
    "1. Using the function create a family of subplots showing the bifurcation occur. That is, for example, plot the phase portraits for several values of $\\mu$ varying from $-1$ to $1$.\n",
    "\n",
    "NOTE: There are fancier ways of building the phase portraits instead of plotting a bunch of integral curves. For example, by using [**this**](https://matplotlib.org/devdocs/gallery/images_contours_and_fields/plot_streamplot.html). However, this exercise gives you practice using these tools and helps you appreciate what's going on \"under the hood\" when we solve systems of ordinary differential equations and interpret them this way."
   ]
  },
  {
   "cell_type": "code",
   "execution_count": null,
   "metadata": {
    "collapsed": true
   },
   "outputs": [],
   "source": []
  }
 ],
 "metadata": {
  "kernelspec": {
   "display_name": "Python 2",
   "language": "python",
   "name": "python2"
  },
  "language_info": {
   "codemirror_mode": {
    "name": "ipython",
    "version": 2
   },
   "file_extension": ".py",
   "mimetype": "text/x-python",
   "name": "python",
   "nbconvert_exporter": "python",
   "pygments_lexer": "ipython2",
   "version": "2.7.13"
  }
 },
 "nbformat": 4,
 "nbformat_minor": 0
}
